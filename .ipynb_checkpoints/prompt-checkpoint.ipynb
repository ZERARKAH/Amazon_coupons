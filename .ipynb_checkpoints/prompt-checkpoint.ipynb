{
 "cells": [
  {
   "cell_type": "markdown",
   "metadata": {},
   "source": [
    "### Will a Customer Accept the Coupon?\n",
    "\n",
    "**Context**\n",
    "\n",
    "Imagine driving through town and a coupon is delivered to your cell phone for a restaraunt near where you are driving. Would you accept that coupon and take a short detour to the restaraunt? Would you accept the coupon but use it on a sunbsequent trip? Would you ignore the coupon entirely? What if the coupon was for a bar instead of a restaraunt? What about a coffee house? Would you accept a bar coupon with a minor passenger in the car? What about if it was just you and your partner in the car? Would weather impact the rate of acceptance? What about the time of day?\n",
    "\n",
    "Obviously, proximity to the business is a factor on whether the coupon is delivered to the driver or not, but what are the factors that determine whether a driver accepts the coupon once it is delivered to them? How would you determine whether a driver is likely to accept a coupon?\n",
    "\n",
    "**Overview**\n",
    "\n",
    "The goal of this project is to use what you know about visualizations and probability distributions to distinguish between customers who accepted a driving coupon versus those that did not.\n",
    "\n",
    "**Data**\n",
    "\n",
    "This data comes to us from the UCI Machine Learning repository and was collected via a survey on Amazon Mechanical Turk. The survey describes different driving scenarios including the destination, current time, weather, passenger, etc., and then ask the person whether he will accept the coupon if he is the driver. Answers that the user will drive there ‘right away’ or ‘later before the coupon expires’ are labeled as ‘Y = 1’ and answers ‘no, I do not want the coupon’ are labeled as ‘Y = 0’.  There are five different types of coupons -- less expensive restaurants (under \\\\$20), coffee houses, carry out & take away, bar, and more expensive restaurants (\\\\$20 - \\\\$50). "
   ]
  },
  {
   "cell_type": "markdown",
   "metadata": {},
   "source": [
    "**Deliverables**\n",
    "\n",
    "Your final product should be a brief report that highlights the differences between customers who did and did not accept the coupons.  To explore the data you will utilize your knowledge of plotting, statistical summaries, and visualization using Python. You will publish your findings in a public facing github repository as your first portfolio piece. \n",
    "\n",
    "\n",
    "\n"
   ]
  },
  {
   "cell_type": "markdown",
   "metadata": {},
   "source": [
    "### Data Description\n",
    "Keep in mind that these values mentioned below are average values.\n",
    "\n",
    "The attributes of this data set include:\n",
    "1. User attributes\n",
    "    -  Gender: male, female\n",
    "    -  Age: below 21, 21 to 25, 26 to 30, etc.\n",
    "    -  Marital Status: single, married partner, unmarried partner, or widowed\n",
    "    -  Number of children: 0, 1, or more than 1\n",
    "    -  Education: high school, bachelors degree, associates degree, or graduate degree\n",
    "    -  Occupation: architecture & engineering, business & financial, etc.\n",
    "    -  Annual income: less than \\\\$12500, \\\\$12500 - \\\\$24999, \\\\$25000 - \\\\$37499, etc.\n",
    "    -  Number of times that he/she goes to a bar: 0, less than 1, 1 to 3, 4 to 8 or greater than 8\n",
    "    -  Number of times that he/she buys takeaway food: 0, less than 1, 1 to 3, 4 to 8 or greater\n",
    "    than 8\n",
    "    -  Number of times that he/she goes to a coffee house: 0, less than 1, 1 to 3, 4 to 8 or\n",
    "    greater than 8\n",
    "    -  Number of times that he/she eats at a restaurant with average expense less than \\\\$20 per\n",
    "    person: 0, less than 1, 1 to 3, 4 to 8 or greater than 8\n",
    "    -  Number of times that he/she goes to a bar: 0, less than 1, 1 to 3, 4 to 8 or greater than 8\n",
    "    \n",
    "\n",
    "2. Contextual attributes\n",
    "    - Driving destination: home, work, or no urgent destination\n",
    "    - Location of user, coupon and destination: we provide a map to show the geographical\n",
    "    location of the user, destination, and the venue, and we mark the distance between each\n",
    "    two places with time of driving. The user can see whether the venue is in the same\n",
    "    direction as the destination.\n",
    "    - Weather: sunny, rainy, or snowy\n",
    "    - Temperature: 30F, 55F, or 80F\n",
    "    - Time: 10AM, 2PM, or 6PM\n",
    "    - Passenger: alone, partner, kid(s), or friend(s)\n",
    "\n",
    "\n",
    "3. Coupon attributes\n",
    "    - time before it expires: 2 hours or one day"
   ]
  },
  {
   "cell_type": "code",
   "execution_count": 16,
   "metadata": {},
   "outputs": [],
   "source": [
    "import matplotlib.pyplot as plt\n",
    "import seaborn as sns\n",
    "import pandas as pd\n",
    "import numpy as np"
   ]
  },
  {
   "cell_type": "markdown",
   "metadata": {},
   "source": [
    "### Problems\n",
    "\n",
    "Use the prompts below to get started with your data analysis.  \n",
    "\n",
    "1. Read in the `coupons.csv` file.\n",
    "\n",
    "\n"
   ]
  },
  {
   "cell_type": "code",
   "execution_count": 17,
   "metadata": {},
   "outputs": [],
   "source": [
    "data = pd.read_csv('data/coupons.csv')"
   ]
  },
  {
   "cell_type": "code",
   "execution_count": 18,
   "metadata": {},
   "outputs": [
    {
     "data": {
      "text/html": [
       "<div>\n",
       "<style scoped>\n",
       "    .dataframe tbody tr th:only-of-type {\n",
       "        vertical-align: middle;\n",
       "    }\n",
       "\n",
       "    .dataframe tbody tr th {\n",
       "        vertical-align: top;\n",
       "    }\n",
       "\n",
       "    .dataframe thead th {\n",
       "        text-align: right;\n",
       "    }\n",
       "</style>\n",
       "<table border=\"1\" class=\"dataframe\">\n",
       "  <thead>\n",
       "    <tr style=\"text-align: right;\">\n",
       "      <th></th>\n",
       "      <th>destination</th>\n",
       "      <th>passanger</th>\n",
       "      <th>weather</th>\n",
       "      <th>temperature</th>\n",
       "      <th>time</th>\n",
       "      <th>coupon</th>\n",
       "      <th>expiration</th>\n",
       "      <th>gender</th>\n",
       "      <th>age</th>\n",
       "      <th>maritalStatus</th>\n",
       "      <th>...</th>\n",
       "      <th>CoffeeHouse</th>\n",
       "      <th>CarryAway</th>\n",
       "      <th>RestaurantLessThan20</th>\n",
       "      <th>Restaurant20To50</th>\n",
       "      <th>toCoupon_GEQ5min</th>\n",
       "      <th>toCoupon_GEQ15min</th>\n",
       "      <th>toCoupon_GEQ25min</th>\n",
       "      <th>direction_same</th>\n",
       "      <th>direction_opp</th>\n",
       "      <th>Y</th>\n",
       "    </tr>\n",
       "  </thead>\n",
       "  <tbody>\n",
       "    <tr>\n",
       "      <th>0</th>\n",
       "      <td>No Urgent Place</td>\n",
       "      <td>Alone</td>\n",
       "      <td>Sunny</td>\n",
       "      <td>55</td>\n",
       "      <td>2PM</td>\n",
       "      <td>Restaurant(&lt;20)</td>\n",
       "      <td>1d</td>\n",
       "      <td>Female</td>\n",
       "      <td>21</td>\n",
       "      <td>Unmarried partner</td>\n",
       "      <td>...</td>\n",
       "      <td>never</td>\n",
       "      <td>NaN</td>\n",
       "      <td>4~8</td>\n",
       "      <td>1~3</td>\n",
       "      <td>1</td>\n",
       "      <td>0</td>\n",
       "      <td>0</td>\n",
       "      <td>0</td>\n",
       "      <td>1</td>\n",
       "      <td>1</td>\n",
       "    </tr>\n",
       "    <tr>\n",
       "      <th>1</th>\n",
       "      <td>No Urgent Place</td>\n",
       "      <td>Friend(s)</td>\n",
       "      <td>Sunny</td>\n",
       "      <td>80</td>\n",
       "      <td>10AM</td>\n",
       "      <td>Coffee House</td>\n",
       "      <td>2h</td>\n",
       "      <td>Female</td>\n",
       "      <td>21</td>\n",
       "      <td>Unmarried partner</td>\n",
       "      <td>...</td>\n",
       "      <td>never</td>\n",
       "      <td>NaN</td>\n",
       "      <td>4~8</td>\n",
       "      <td>1~3</td>\n",
       "      <td>1</td>\n",
       "      <td>0</td>\n",
       "      <td>0</td>\n",
       "      <td>0</td>\n",
       "      <td>1</td>\n",
       "      <td>0</td>\n",
       "    </tr>\n",
       "    <tr>\n",
       "      <th>2</th>\n",
       "      <td>No Urgent Place</td>\n",
       "      <td>Friend(s)</td>\n",
       "      <td>Sunny</td>\n",
       "      <td>80</td>\n",
       "      <td>10AM</td>\n",
       "      <td>Carry out &amp; Take away</td>\n",
       "      <td>2h</td>\n",
       "      <td>Female</td>\n",
       "      <td>21</td>\n",
       "      <td>Unmarried partner</td>\n",
       "      <td>...</td>\n",
       "      <td>never</td>\n",
       "      <td>NaN</td>\n",
       "      <td>4~8</td>\n",
       "      <td>1~3</td>\n",
       "      <td>1</td>\n",
       "      <td>1</td>\n",
       "      <td>0</td>\n",
       "      <td>0</td>\n",
       "      <td>1</td>\n",
       "      <td>1</td>\n",
       "    </tr>\n",
       "    <tr>\n",
       "      <th>3</th>\n",
       "      <td>No Urgent Place</td>\n",
       "      <td>Friend(s)</td>\n",
       "      <td>Sunny</td>\n",
       "      <td>80</td>\n",
       "      <td>2PM</td>\n",
       "      <td>Coffee House</td>\n",
       "      <td>2h</td>\n",
       "      <td>Female</td>\n",
       "      <td>21</td>\n",
       "      <td>Unmarried partner</td>\n",
       "      <td>...</td>\n",
       "      <td>never</td>\n",
       "      <td>NaN</td>\n",
       "      <td>4~8</td>\n",
       "      <td>1~3</td>\n",
       "      <td>1</td>\n",
       "      <td>1</td>\n",
       "      <td>0</td>\n",
       "      <td>0</td>\n",
       "      <td>1</td>\n",
       "      <td>0</td>\n",
       "    </tr>\n",
       "    <tr>\n",
       "      <th>4</th>\n",
       "      <td>No Urgent Place</td>\n",
       "      <td>Friend(s)</td>\n",
       "      <td>Sunny</td>\n",
       "      <td>80</td>\n",
       "      <td>2PM</td>\n",
       "      <td>Coffee House</td>\n",
       "      <td>1d</td>\n",
       "      <td>Female</td>\n",
       "      <td>21</td>\n",
       "      <td>Unmarried partner</td>\n",
       "      <td>...</td>\n",
       "      <td>never</td>\n",
       "      <td>NaN</td>\n",
       "      <td>4~8</td>\n",
       "      <td>1~3</td>\n",
       "      <td>1</td>\n",
       "      <td>1</td>\n",
       "      <td>0</td>\n",
       "      <td>0</td>\n",
       "      <td>1</td>\n",
       "      <td>0</td>\n",
       "    </tr>\n",
       "  </tbody>\n",
       "</table>\n",
       "<p>5 rows × 26 columns</p>\n",
       "</div>"
      ],
      "text/plain": [
       "       destination  passanger weather  temperature  time  \\\n",
       "0  No Urgent Place      Alone   Sunny           55   2PM   \n",
       "1  No Urgent Place  Friend(s)   Sunny           80  10AM   \n",
       "2  No Urgent Place  Friend(s)   Sunny           80  10AM   \n",
       "3  No Urgent Place  Friend(s)   Sunny           80   2PM   \n",
       "4  No Urgent Place  Friend(s)   Sunny           80   2PM   \n",
       "\n",
       "                  coupon expiration  gender age      maritalStatus  ...  \\\n",
       "0        Restaurant(<20)         1d  Female  21  Unmarried partner  ...   \n",
       "1           Coffee House         2h  Female  21  Unmarried partner  ...   \n",
       "2  Carry out & Take away         2h  Female  21  Unmarried partner  ...   \n",
       "3           Coffee House         2h  Female  21  Unmarried partner  ...   \n",
       "4           Coffee House         1d  Female  21  Unmarried partner  ...   \n",
       "\n",
       "   CoffeeHouse CarryAway RestaurantLessThan20 Restaurant20To50  \\\n",
       "0        never       NaN                  4~8              1~3   \n",
       "1        never       NaN                  4~8              1~3   \n",
       "2        never       NaN                  4~8              1~3   \n",
       "3        never       NaN                  4~8              1~3   \n",
       "4        never       NaN                  4~8              1~3   \n",
       "\n",
       "  toCoupon_GEQ5min toCoupon_GEQ15min toCoupon_GEQ25min direction_same  \\\n",
       "0                1                 0                 0              0   \n",
       "1                1                 0                 0              0   \n",
       "2                1                 1                 0              0   \n",
       "3                1                 1                 0              0   \n",
       "4                1                 1                 0              0   \n",
       "\n",
       "  direction_opp  Y  \n",
       "0             1  1  \n",
       "1             1  0  \n",
       "2             1  1  \n",
       "3             1  0  \n",
       "4             1  0  \n",
       "\n",
       "[5 rows x 26 columns]"
      ]
     },
     "execution_count": 18,
     "metadata": {},
     "output_type": "execute_result"
    }
   ],
   "source": [
    "data.head()"
   ]
  },
  {
   "cell_type": "markdown",
   "metadata": {},
   "source": [
    "2. Investigate the dataset for missing or problematic data."
   ]
  },
  {
   "cell_type": "code",
   "execution_count": 19,
   "metadata": {
    "scrolled": true
   },
   "outputs": [
    {
     "data": {
      "text/plain": [
       "(12684, 26)"
      ]
     },
     "execution_count": 19,
     "metadata": {},
     "output_type": "execute_result"
    }
   ],
   "source": [
    "data.shape"
   ]
  },
  {
   "cell_type": "code",
   "execution_count": 20,
   "metadata": {},
   "outputs": [
    {
     "data": {
      "text/html": [
       "<div>\n",
       "<style scoped>\n",
       "    .dataframe tbody tr th:only-of-type {\n",
       "        vertical-align: middle;\n",
       "    }\n",
       "\n",
       "    .dataframe tbody tr th {\n",
       "        vertical-align: top;\n",
       "    }\n",
       "\n",
       "    .dataframe thead th {\n",
       "        text-align: right;\n",
       "    }\n",
       "</style>\n",
       "<table border=\"1\" class=\"dataframe\">\n",
       "  <thead>\n",
       "    <tr style=\"text-align: right;\">\n",
       "      <th></th>\n",
       "      <th>destination</th>\n",
       "      <th>passanger</th>\n",
       "      <th>weather</th>\n",
       "      <th>temperature</th>\n",
       "      <th>time</th>\n",
       "      <th>coupon</th>\n",
       "      <th>expiration</th>\n",
       "      <th>gender</th>\n",
       "      <th>age</th>\n",
       "      <th>maritalStatus</th>\n",
       "      <th>...</th>\n",
       "      <th>CoffeeHouse</th>\n",
       "      <th>CarryAway</th>\n",
       "      <th>RestaurantLessThan20</th>\n",
       "      <th>Restaurant20To50</th>\n",
       "      <th>toCoupon_GEQ5min</th>\n",
       "      <th>toCoupon_GEQ15min</th>\n",
       "      <th>toCoupon_GEQ25min</th>\n",
       "      <th>direction_same</th>\n",
       "      <th>direction_opp</th>\n",
       "      <th>Y</th>\n",
       "    </tr>\n",
       "  </thead>\n",
       "  <tbody>\n",
       "    <tr>\n",
       "      <th>0</th>\n",
       "      <td>False</td>\n",
       "      <td>False</td>\n",
       "      <td>False</td>\n",
       "      <td>False</td>\n",
       "      <td>False</td>\n",
       "      <td>False</td>\n",
       "      <td>False</td>\n",
       "      <td>False</td>\n",
       "      <td>False</td>\n",
       "      <td>False</td>\n",
       "      <td>...</td>\n",
       "      <td>False</td>\n",
       "      <td>True</td>\n",
       "      <td>False</td>\n",
       "      <td>False</td>\n",
       "      <td>False</td>\n",
       "      <td>False</td>\n",
       "      <td>False</td>\n",
       "      <td>False</td>\n",
       "      <td>False</td>\n",
       "      <td>False</td>\n",
       "    </tr>\n",
       "    <tr>\n",
       "      <th>1</th>\n",
       "      <td>False</td>\n",
       "      <td>False</td>\n",
       "      <td>False</td>\n",
       "      <td>False</td>\n",
       "      <td>False</td>\n",
       "      <td>False</td>\n",
       "      <td>False</td>\n",
       "      <td>False</td>\n",
       "      <td>False</td>\n",
       "      <td>False</td>\n",
       "      <td>...</td>\n",
       "      <td>False</td>\n",
       "      <td>True</td>\n",
       "      <td>False</td>\n",
       "      <td>False</td>\n",
       "      <td>False</td>\n",
       "      <td>False</td>\n",
       "      <td>False</td>\n",
       "      <td>False</td>\n",
       "      <td>False</td>\n",
       "      <td>False</td>\n",
       "    </tr>\n",
       "    <tr>\n",
       "      <th>2</th>\n",
       "      <td>False</td>\n",
       "      <td>False</td>\n",
       "      <td>False</td>\n",
       "      <td>False</td>\n",
       "      <td>False</td>\n",
       "      <td>False</td>\n",
       "      <td>False</td>\n",
       "      <td>False</td>\n",
       "      <td>False</td>\n",
       "      <td>False</td>\n",
       "      <td>...</td>\n",
       "      <td>False</td>\n",
       "      <td>True</td>\n",
       "      <td>False</td>\n",
       "      <td>False</td>\n",
       "      <td>False</td>\n",
       "      <td>False</td>\n",
       "      <td>False</td>\n",
       "      <td>False</td>\n",
       "      <td>False</td>\n",
       "      <td>False</td>\n",
       "    </tr>\n",
       "    <tr>\n",
       "      <th>3</th>\n",
       "      <td>False</td>\n",
       "      <td>False</td>\n",
       "      <td>False</td>\n",
       "      <td>False</td>\n",
       "      <td>False</td>\n",
       "      <td>False</td>\n",
       "      <td>False</td>\n",
       "      <td>False</td>\n",
       "      <td>False</td>\n",
       "      <td>False</td>\n",
       "      <td>...</td>\n",
       "      <td>False</td>\n",
       "      <td>True</td>\n",
       "      <td>False</td>\n",
       "      <td>False</td>\n",
       "      <td>False</td>\n",
       "      <td>False</td>\n",
       "      <td>False</td>\n",
       "      <td>False</td>\n",
       "      <td>False</td>\n",
       "      <td>False</td>\n",
       "    </tr>\n",
       "    <tr>\n",
       "      <th>4</th>\n",
       "      <td>False</td>\n",
       "      <td>False</td>\n",
       "      <td>False</td>\n",
       "      <td>False</td>\n",
       "      <td>False</td>\n",
       "      <td>False</td>\n",
       "      <td>False</td>\n",
       "      <td>False</td>\n",
       "      <td>False</td>\n",
       "      <td>False</td>\n",
       "      <td>...</td>\n",
       "      <td>False</td>\n",
       "      <td>True</td>\n",
       "      <td>False</td>\n",
       "      <td>False</td>\n",
       "      <td>False</td>\n",
       "      <td>False</td>\n",
       "      <td>False</td>\n",
       "      <td>False</td>\n",
       "      <td>False</td>\n",
       "      <td>False</td>\n",
       "    </tr>\n",
       "    <tr>\n",
       "      <th>...</th>\n",
       "      <td>...</td>\n",
       "      <td>...</td>\n",
       "      <td>...</td>\n",
       "      <td>...</td>\n",
       "      <td>...</td>\n",
       "      <td>...</td>\n",
       "      <td>...</td>\n",
       "      <td>...</td>\n",
       "      <td>...</td>\n",
       "      <td>...</td>\n",
       "      <td>...</td>\n",
       "      <td>...</td>\n",
       "      <td>...</td>\n",
       "      <td>...</td>\n",
       "      <td>...</td>\n",
       "      <td>...</td>\n",
       "      <td>...</td>\n",
       "      <td>...</td>\n",
       "      <td>...</td>\n",
       "      <td>...</td>\n",
       "      <td>...</td>\n",
       "    </tr>\n",
       "    <tr>\n",
       "      <th>12679</th>\n",
       "      <td>False</td>\n",
       "      <td>False</td>\n",
       "      <td>False</td>\n",
       "      <td>False</td>\n",
       "      <td>False</td>\n",
       "      <td>False</td>\n",
       "      <td>False</td>\n",
       "      <td>False</td>\n",
       "      <td>False</td>\n",
       "      <td>False</td>\n",
       "      <td>...</td>\n",
       "      <td>False</td>\n",
       "      <td>False</td>\n",
       "      <td>False</td>\n",
       "      <td>False</td>\n",
       "      <td>False</td>\n",
       "      <td>False</td>\n",
       "      <td>False</td>\n",
       "      <td>False</td>\n",
       "      <td>False</td>\n",
       "      <td>False</td>\n",
       "    </tr>\n",
       "    <tr>\n",
       "      <th>12680</th>\n",
       "      <td>False</td>\n",
       "      <td>False</td>\n",
       "      <td>False</td>\n",
       "      <td>False</td>\n",
       "      <td>False</td>\n",
       "      <td>False</td>\n",
       "      <td>False</td>\n",
       "      <td>False</td>\n",
       "      <td>False</td>\n",
       "      <td>False</td>\n",
       "      <td>...</td>\n",
       "      <td>False</td>\n",
       "      <td>False</td>\n",
       "      <td>False</td>\n",
       "      <td>False</td>\n",
       "      <td>False</td>\n",
       "      <td>False</td>\n",
       "      <td>False</td>\n",
       "      <td>False</td>\n",
       "      <td>False</td>\n",
       "      <td>False</td>\n",
       "    </tr>\n",
       "    <tr>\n",
       "      <th>12681</th>\n",
       "      <td>False</td>\n",
       "      <td>False</td>\n",
       "      <td>False</td>\n",
       "      <td>False</td>\n",
       "      <td>False</td>\n",
       "      <td>False</td>\n",
       "      <td>False</td>\n",
       "      <td>False</td>\n",
       "      <td>False</td>\n",
       "      <td>False</td>\n",
       "      <td>...</td>\n",
       "      <td>False</td>\n",
       "      <td>False</td>\n",
       "      <td>False</td>\n",
       "      <td>False</td>\n",
       "      <td>False</td>\n",
       "      <td>False</td>\n",
       "      <td>False</td>\n",
       "      <td>False</td>\n",
       "      <td>False</td>\n",
       "      <td>False</td>\n",
       "    </tr>\n",
       "    <tr>\n",
       "      <th>12682</th>\n",
       "      <td>False</td>\n",
       "      <td>False</td>\n",
       "      <td>False</td>\n",
       "      <td>False</td>\n",
       "      <td>False</td>\n",
       "      <td>False</td>\n",
       "      <td>False</td>\n",
       "      <td>False</td>\n",
       "      <td>False</td>\n",
       "      <td>False</td>\n",
       "      <td>...</td>\n",
       "      <td>False</td>\n",
       "      <td>False</td>\n",
       "      <td>False</td>\n",
       "      <td>False</td>\n",
       "      <td>False</td>\n",
       "      <td>False</td>\n",
       "      <td>False</td>\n",
       "      <td>False</td>\n",
       "      <td>False</td>\n",
       "      <td>False</td>\n",
       "    </tr>\n",
       "    <tr>\n",
       "      <th>12683</th>\n",
       "      <td>False</td>\n",
       "      <td>False</td>\n",
       "      <td>False</td>\n",
       "      <td>False</td>\n",
       "      <td>False</td>\n",
       "      <td>False</td>\n",
       "      <td>False</td>\n",
       "      <td>False</td>\n",
       "      <td>False</td>\n",
       "      <td>False</td>\n",
       "      <td>...</td>\n",
       "      <td>False</td>\n",
       "      <td>False</td>\n",
       "      <td>False</td>\n",
       "      <td>False</td>\n",
       "      <td>False</td>\n",
       "      <td>False</td>\n",
       "      <td>False</td>\n",
       "      <td>False</td>\n",
       "      <td>False</td>\n",
       "      <td>False</td>\n",
       "    </tr>\n",
       "  </tbody>\n",
       "</table>\n",
       "<p>12684 rows × 26 columns</p>\n",
       "</div>"
      ],
      "text/plain": [
       "       destination  passanger  weather  temperature   time  coupon  \\\n",
       "0            False      False    False        False  False   False   \n",
       "1            False      False    False        False  False   False   \n",
       "2            False      False    False        False  False   False   \n",
       "3            False      False    False        False  False   False   \n",
       "4            False      False    False        False  False   False   \n",
       "...            ...        ...      ...          ...    ...     ...   \n",
       "12679        False      False    False        False  False   False   \n",
       "12680        False      False    False        False  False   False   \n",
       "12681        False      False    False        False  False   False   \n",
       "12682        False      False    False        False  False   False   \n",
       "12683        False      False    False        False  False   False   \n",
       "\n",
       "       expiration  gender    age  maritalStatus  ...  CoffeeHouse  CarryAway  \\\n",
       "0           False   False  False          False  ...        False       True   \n",
       "1           False   False  False          False  ...        False       True   \n",
       "2           False   False  False          False  ...        False       True   \n",
       "3           False   False  False          False  ...        False       True   \n",
       "4           False   False  False          False  ...        False       True   \n",
       "...           ...     ...    ...            ...  ...          ...        ...   \n",
       "12679       False   False  False          False  ...        False      False   \n",
       "12680       False   False  False          False  ...        False      False   \n",
       "12681       False   False  False          False  ...        False      False   \n",
       "12682       False   False  False          False  ...        False      False   \n",
       "12683       False   False  False          False  ...        False      False   \n",
       "\n",
       "       RestaurantLessThan20  Restaurant20To50  toCoupon_GEQ5min  \\\n",
       "0                     False             False             False   \n",
       "1                     False             False             False   \n",
       "2                     False             False             False   \n",
       "3                     False             False             False   \n",
       "4                     False             False             False   \n",
       "...                     ...               ...               ...   \n",
       "12679                 False             False             False   \n",
       "12680                 False             False             False   \n",
       "12681                 False             False             False   \n",
       "12682                 False             False             False   \n",
       "12683                 False             False             False   \n",
       "\n",
       "       toCoupon_GEQ15min  toCoupon_GEQ25min  direction_same  direction_opp  \\\n",
       "0                  False              False           False          False   \n",
       "1                  False              False           False          False   \n",
       "2                  False              False           False          False   \n",
       "3                  False              False           False          False   \n",
       "4                  False              False           False          False   \n",
       "...                  ...                ...             ...            ...   \n",
       "12679              False              False           False          False   \n",
       "12680              False              False           False          False   \n",
       "12681              False              False           False          False   \n",
       "12682              False              False           False          False   \n",
       "12683              False              False           False          False   \n",
       "\n",
       "           Y  \n",
       "0      False  \n",
       "1      False  \n",
       "2      False  \n",
       "3      False  \n",
       "4      False  \n",
       "...      ...  \n",
       "12679  False  \n",
       "12680  False  \n",
       "12681  False  \n",
       "12682  False  \n",
       "12683  False  \n",
       "\n",
       "[12684 rows x 26 columns]"
      ]
     },
     "execution_count": 20,
     "metadata": {},
     "output_type": "execute_result"
    }
   ],
   "source": [
    "data.isnull()"
   ]
  },
  {
   "cell_type": "code",
   "execution_count": 21,
   "metadata": {
    "scrolled": true
   },
   "outputs": [
    {
     "data": {
      "text/plain": [
       "destination                 0\n",
       "passanger                   0\n",
       "weather                     0\n",
       "temperature                 0\n",
       "time                        0\n",
       "coupon                      0\n",
       "expiration                  0\n",
       "gender                      0\n",
       "age                         0\n",
       "maritalStatus               0\n",
       "has_children                0\n",
       "education                   0\n",
       "occupation                  0\n",
       "income                      0\n",
       "car                     12576\n",
       "Bar                       107\n",
       "CoffeeHouse               217\n",
       "CarryAway                 151\n",
       "RestaurantLessThan20      130\n",
       "Restaurant20To50          189\n",
       "toCoupon_GEQ5min            0\n",
       "toCoupon_GEQ15min           0\n",
       "toCoupon_GEQ25min           0\n",
       "direction_same              0\n",
       "direction_opp               0\n",
       "Y                           0\n",
       "dtype: int64"
      ]
     },
     "execution_count": 21,
     "metadata": {},
     "output_type": "execute_result"
    }
   ],
   "source": [
    "data.isnull().sum()"
   ]
  },
  {
   "cell_type": "code",
   "execution_count": 22,
   "metadata": {
    "scrolled": true
   },
   "outputs": [
    {
     "data": {
      "text/plain": [
       "13370"
      ]
     },
     "execution_count": 22,
     "metadata": {},
     "output_type": "execute_result"
    }
   ],
   "source": [
    "data.isnull().sum().sum()"
   ]
  },
  {
   "cell_type": "code",
   "execution_count": null,
   "metadata": {},
   "outputs": [],
   "source": []
  },
  {
   "cell_type": "markdown",
   "metadata": {},
   "source": [
    "3. Decide what to do about your missing data -- drop, replace, other..."
   ]
  },
  {
   "cell_type": "markdown",
   "metadata": {},
   "source": [
    "- In order to facilitate the follow-up analysis, it has been determined that certain columns, specifically which are currently defined as objects, must be treated as numerical. \n",
    "\n",
    "3-1 The \"income\" column will undergo some modifications to enable its classification as a numerical type. Specifically, all blank spaces, \"$\" signs, and \"-\" signs will be replaced with a single space. Additionally, income ranges will be substituted with their respective averages."
   ]
  },
  {
   "cell_type": "code",
   "execution_count": 23,
   "metadata": {},
   "outputs": [
    {
     "data": {
      "text/plain": [
       "$25000 - $37499     2013\n",
       "$12500 - $24999     1831\n",
       "$37500 - $49999     1805\n",
       "$100000 or More     1736\n",
       "$50000 - $62499     1659\n",
       "Less than $12500    1042\n",
       "$87500 - $99999      895\n",
       "$75000 - $87499      857\n",
       "$62500 - $74999      846\n",
       "Name: income, dtype: int64"
      ]
     },
     "execution_count": 23,
     "metadata": {},
     "output_type": "execute_result"
    }
   ],
   "source": [
    "data['income'].value_counts()"
   ]
  },
  {
   "cell_type": "code",
   "execution_count": 24,
   "metadata": {},
   "outputs": [],
   "source": [
    "data[\"income\"]=data[\"income\"].str.replace(\"$\",\" \",regex=True)\n",
    "data[\"income\"]=data[\"income\"].str.replace(\"-\",\" \",regex=True)\n",
    "data[\"income\"]=data[\"income\"].str.replace(\" \",\"\",regex=True)"
   ]
  },
  {
   "cell_type": "code",
   "execution_count": 25,
   "metadata": {},
   "outputs": [],
   "source": [
    "data[\"income\"]=data[\"income\"].str.replace(\"2500037499\",\"31250\",regex=True)\n",
    "data[\"income\"]=data[\"income\"].str.replace(\"1250024999\",\"18750\",regex=True)\n",
    "data[\"income\"]=data[\"income\"].str.replace(\"3750049999\",\"43750\",regex=True)\n",
    "data[\"income\"]=data[\"income\"].str.replace(\"100000orMore\",\"100000\",regex=True)\n",
    "data[\"income\"]=data[\"income\"].str.replace(\"5000062499\",\"56250\",regex=True)\n",
    "data[\"income\"]=data[\"income\"].str.replace(\"Lessthan12500\",\"12499\",regex=True)\n",
    "data[\"income\"]=data[\"income\"].str.replace(\"8750099999\",\"93750\",regex=True)\n",
    "data[\"income\"]=data[\"income\"].str.replace(\"7500087499\",\"81250\",regex=True)\n",
    "data[\"income\"]=data[\"income\"].str.replace(\"6250074999\",\"68750\",regex=True)"
   ]
  },
  {
   "cell_type": "code",
   "execution_count": 26,
   "metadata": {},
   "outputs": [],
   "source": [
    "data[\"income\"]=pd.to_numeric(data[\"income\"])"
   ]
  },
  {
   "cell_type": "code",
   "execution_count": 27,
   "metadata": {},
   "outputs": [
    {
     "data": {
      "text/plain": [
       "31250     2013\n",
       "18750     1831\n",
       "43750     1805\n",
       "100000    1736\n",
       "56250     1659\n",
       "12499     1042\n",
       "93750      895\n",
       "81250      857\n",
       "68750      846\n",
       "Name: income, dtype: int64"
      ]
     },
     "execution_count": 27,
     "metadata": {},
     "output_type": "execute_result"
    }
   ],
   "source": [
    "data['income'].value_counts()"
   ]
  },
  {
   "cell_type": "code",
   "execution_count": null,
   "metadata": {},
   "outputs": [],
   "source": []
  },
  {
   "cell_type": "markdown",
   "metadata": {},
   "source": [
    "\n",
    "\n",
    "3-2 To define the \"expiration\" column as a numerical type, it has been decided that all values will be converted to hours."
   ]
  },
  {
   "cell_type": "code",
   "execution_count": 28,
   "metadata": {},
   "outputs": [
    {
     "data": {
      "text/plain": [
       "1d    7091\n",
       "2h    5593\n",
       "Name: expiration, dtype: int64"
      ]
     },
     "execution_count": 28,
     "metadata": {},
     "output_type": "execute_result"
    }
   ],
   "source": [
    "data['expiration'].value_counts()"
   ]
  },
  {
   "cell_type": "code",
   "execution_count": 29,
   "metadata": {},
   "outputs": [],
   "source": [
    "data[\"expiration\"]=data[\"expiration\"].str.replace(\"1d\",\"24\")\n",
    "data[\"expiration\"]=data[\"expiration\"].str.replace(\"2h\",\"2\")"
   ]
  },
  {
   "cell_type": "code",
   "execution_count": 30,
   "metadata": {},
   "outputs": [],
   "source": [
    "data[\"expiration\"]=pd.to_numeric(data[\"expiration\"])"
   ]
  },
  {
   "cell_type": "code",
   "execution_count": 31,
   "metadata": {},
   "outputs": [
    {
     "data": {
      "text/plain": [
       "24    7091\n",
       "2     5593\n",
       "Name: expiration, dtype: int64"
      ]
     },
     "execution_count": 31,
     "metadata": {},
     "output_type": "execute_result"
    }
   ],
   "source": [
    "data['expiration'].value_counts()"
   ]
  },
  {
   "cell_type": "markdown",
   "metadata": {},
   "source": [
    "3-3 The \"Age\" column is being modified by replacing \"50plus\" and \"below21\" with individual values, which results in its type being categorized as numerical."
   ]
  },
  {
   "cell_type": "code",
   "execution_count": 52,
   "metadata": {},
   "outputs": [
    {
     "data": {
      "text/plain": [
       "21         2653\n",
       "26         2559\n",
       "31         2039\n",
       "50plus     1788\n",
       "36         1319\n",
       "41         1093\n",
       "46          686\n",
       "below21     547\n",
       "Name: age, dtype: int64"
      ]
     },
     "execution_count": 52,
     "metadata": {},
     "output_type": "execute_result"
    }
   ],
   "source": [
    "data['age'].value_counts()"
   ]
  },
  {
   "cell_type": "code",
   "execution_count": 53,
   "metadata": {},
   "outputs": [],
   "source": [
    "data[\"age\"]=data[\"age\"].str.replace(\"50plus\",\"51\")\n",
    "data[\"age\"]=data[\"age\"].str.replace(\"below21\",\"20\")"
   ]
  },
  {
   "cell_type": "code",
   "execution_count": 54,
   "metadata": {},
   "outputs": [],
   "source": [
    "data[\"age\"]=pd.to_numeric(data[\"age\"])"
   ]
  },
  {
   "cell_type": "code",
   "execution_count": 55,
   "metadata": {},
   "outputs": [
    {
     "data": {
      "text/plain": [
       "21    2653\n",
       "26    2559\n",
       "31    2039\n",
       "51    1788\n",
       "36    1319\n",
       "41    1093\n",
       "46     686\n",
       "20     547\n",
       "Name: age, dtype: int64"
      ]
     },
     "execution_count": 55,
     "metadata": {},
     "output_type": "execute_result"
    }
   ],
   "source": [
    "data['age'].value_counts()"
   ]
  },
  {
   "cell_type": "code",
   "execution_count": null,
   "metadata": {},
   "outputs": [],
   "source": []
  },
  {
   "cell_type": "markdown",
   "metadata": {},
   "source": [
    "3-4 The \"CoffeHouse\" column will be modified to a numerical type by replacing all values with a single value, mostly representing their respective averages."
   ]
  },
  {
   "cell_type": "code",
   "execution_count": 32,
   "metadata": {},
   "outputs": [
    {
     "data": {
      "text/plain": [
       "less1    3385\n",
       "1~3      3225\n",
       "never    2962\n",
       "4~8      1784\n",
       "gt8      1111\n",
       "Name: CoffeeHouse, dtype: int64"
      ]
     },
     "execution_count": 32,
     "metadata": {},
     "output_type": "execute_result"
    }
   ],
   "source": [
    "data['CoffeeHouse'].value_counts()"
   ]
  },
  {
   "cell_type": "code",
   "execution_count": 33,
   "metadata": {},
   "outputs": [],
   "source": [
    "data[\"CoffeeHouse\"]=data[\"CoffeeHouse\"].str.replace(\"never\",\"0\")\n",
    "data[\"CoffeeHouse\"]=data[\"CoffeeHouse\"].str.replace(\"less1\",\"1\")\n",
    "data[\"CoffeeHouse\"]=data[\"CoffeeHouse\"].str.replace(\"1~3\",\"2\")\n",
    "data[\"CoffeeHouse\"]=data[\"CoffeeHouse\"].str.replace(\"4~8\",\"6\")\n",
    "data[\"CoffeeHouse\"]=data[\"CoffeeHouse\"].str.replace(\"gt8\",\"9\")"
   ]
  },
  {
   "cell_type": "code",
   "execution_count": null,
   "metadata": {},
   "outputs": [],
   "source": [
    "data[\"CoffeeHouse\"]=pd.to_numeric(data[\"CoffeeHouse\"])"
   ]
  },
  {
   "cell_type": "code",
   "execution_count": 34,
   "metadata": {},
   "outputs": [
    {
     "data": {
      "text/plain": [
       "1    3385\n",
       "2    3225\n",
       "0    2962\n",
       "6    1784\n",
       "9    1111\n",
       "Name: CoffeeHouse, dtype: int64"
      ]
     },
     "execution_count": 34,
     "metadata": {},
     "output_type": "execute_result"
    }
   ],
   "source": [
    "data['CoffeeHouse'].value_counts()"
   ]
  },
  {
   "cell_type": "markdown",
   "metadata": {},
   "source": [
    "3-5 To define the \"Bar\" column as a numerical type, it has been decided that all values will be replaced with a single value, mostly representing their respective averages."
   ]
  },
  {
   "cell_type": "code",
   "execution_count": 36,
   "metadata": {},
   "outputs": [
    {
     "data": {
      "text/plain": [
       "never    5197\n",
       "less1    3482\n",
       "1~3      2473\n",
       "4~8      1076\n",
       "gt8       349\n",
       "Name: Bar, dtype: int64"
      ]
     },
     "execution_count": 36,
     "metadata": {},
     "output_type": "execute_result"
    }
   ],
   "source": [
    "data['Bar'].value_counts()"
   ]
  },
  {
   "cell_type": "code",
   "execution_count": 37,
   "metadata": {},
   "outputs": [],
   "source": [
    "data[\"Bar\"]=data[\"Bar\"].str.replace(\"never\",\"0\")\n",
    "data[\"Bar\"]=data[\"Bar\"].str.replace(\"less1\",\"1\")\n",
    "data[\"Bar\"]=data[\"Bar\"].str.replace(\"1~3\",\"2\")\n",
    "data[\"Bar\"]=data[\"Bar\"].str.replace(\"4~8\",\"6\")\n",
    "data[\"Bar\"]=data[\"Bar\"].str.replace(\"gt8\",\"9\")\n"
   ]
  },
  {
   "cell_type": "code",
   "execution_count": 38,
   "metadata": {},
   "outputs": [],
   "source": [
    "data[\"Bar\"]=pd.to_numeric(data[\"Bar\"])"
   ]
  },
  {
   "cell_type": "code",
   "execution_count": 39,
   "metadata": {},
   "outputs": [
    {
     "data": {
      "text/plain": [
       "0.0    5197\n",
       "1.0    3482\n",
       "2.0    2473\n",
       "6.0    1076\n",
       "9.0     349\n",
       "Name: Bar, dtype: int64"
      ]
     },
     "execution_count": 39,
     "metadata": {},
     "output_type": "execute_result"
    }
   ],
   "source": [
    "data['Bar'].value_counts()"
   ]
  },
  {
   "cell_type": "markdown",
   "metadata": {},
   "source": [
    "3-6 To define the \"CarryAway\" column as a numerical type, it has been decided that all values will be replaced with a single value, mostly representing their respective averages."
   ]
  },
  {
   "cell_type": "code",
   "execution_count": 40,
   "metadata": {},
   "outputs": [
    {
     "data": {
      "text/plain": [
       "1~3      4672\n",
       "4~8      4258\n",
       "less1    1856\n",
       "gt8      1594\n",
       "never     153\n",
       "Name: CarryAway, dtype: int64"
      ]
     },
     "execution_count": 40,
     "metadata": {},
     "output_type": "execute_result"
    }
   ],
   "source": [
    "data['CarryAway'].value_counts()"
   ]
  },
  {
   "cell_type": "code",
   "execution_count": 41,
   "metadata": {},
   "outputs": [],
   "source": [
    "data[\"CarryAway\"]=data[\"CarryAway\"].str.replace(\"never\",\"0\")\n",
    "data[\"CarryAway\"]=data[\"CarryAway\"].str.replace(\"less1\",\"1\")\n",
    "data[\"CarryAway\"]=data[\"CarryAway\"].str.replace(\"1~3\",\"2\")\n",
    "data[\"CarryAway\"]=data[\"CarryAway\"].str.replace(\"4~8\",\"6\")\n",
    "data[\"CarryAway\"]=data[\"CarryAway\"].str.replace(\"gt8\",\"9\")"
   ]
  },
  {
   "cell_type": "code",
   "execution_count": 42,
   "metadata": {},
   "outputs": [],
   "source": [
    "data[\"CarryAway\"]=pd.to_numeric(data[\"CarryAway\"])"
   ]
  },
  {
   "cell_type": "code",
   "execution_count": 43,
   "metadata": {},
   "outputs": [
    {
     "data": {
      "text/plain": [
       "2.0    4672\n",
       "6.0    4258\n",
       "1.0    1856\n",
       "9.0    1594\n",
       "0.0     153\n",
       "Name: CarryAway, dtype: int64"
      ]
     },
     "execution_count": 43,
     "metadata": {},
     "output_type": "execute_result"
    }
   ],
   "source": [
    "data['CarryAway'].value_counts()"
   ]
  },
  {
   "cell_type": "markdown",
   "metadata": {},
   "source": [
    "3-7 To define the \"RestaurantLessThan20\" column as a numerical type, it has been decided that all values will be replaced with a single value, mostly representing their respective averages."
   ]
  },
  {
   "cell_type": "code",
   "execution_count": 44,
   "metadata": {},
   "outputs": [
    {
     "data": {
      "text/plain": [
       "1~3      5376\n",
       "4~8      3580\n",
       "less1    2093\n",
       "gt8      1285\n",
       "never     220\n",
       "Name: RestaurantLessThan20, dtype: int64"
      ]
     },
     "execution_count": 44,
     "metadata": {},
     "output_type": "execute_result"
    }
   ],
   "source": [
    "data['RestaurantLessThan20'].value_counts()"
   ]
  },
  {
   "cell_type": "code",
   "execution_count": 45,
   "metadata": {},
   "outputs": [],
   "source": [
    "data[\"RestaurantLessThan20\"]=data[\"RestaurantLessThan20\"].str.replace(\"never\",\"0\")\n",
    "data[\"RestaurantLessThan20\"]=data[\"RestaurantLessThan20\"].str.replace(\"less1\",\"1\")\n",
    "data[\"RestaurantLessThan20\"]=data[\"RestaurantLessThan20\"].str.replace(\"1~3\",\"2\")\n",
    "data[\"RestaurantLessThan20\"]=data[\"RestaurantLessThan20\"].str.replace(\"4~8\",\"6\")\n",
    "data[\"RestaurantLessThan20\"]=data[\"RestaurantLessThan20\"].str.replace(\"gt8\",\"9\")"
   ]
  },
  {
   "cell_type": "code",
   "execution_count": 46,
   "metadata": {},
   "outputs": [],
   "source": [
    "data[\"RestaurantLessThan20\"]=pd.to_numeric(data[\"RestaurantLessThan20\"])"
   ]
  },
  {
   "cell_type": "code",
   "execution_count": 47,
   "metadata": {},
   "outputs": [
    {
     "data": {
      "text/plain": [
       "2.0    5376\n",
       "6.0    3580\n",
       "1.0    2093\n",
       "9.0    1285\n",
       "0.0     220\n",
       "Name: RestaurantLessThan20, dtype: int64"
      ]
     },
     "execution_count": 47,
     "metadata": {},
     "output_type": "execute_result"
    }
   ],
   "source": [
    "data['RestaurantLessThan20'].value_counts()"
   ]
  },
  {
   "cell_type": "markdown",
   "metadata": {},
   "source": [
    "3-8 The \"Restaurant20To50\" column will be modified to a numerical type by replacing all values with a single value, mostly representing their respective averages."
   ]
  },
  {
   "cell_type": "code",
   "execution_count": 48,
   "metadata": {},
   "outputs": [
    {
     "data": {
      "text/plain": [
       "less1    6077\n",
       "1~3      3290\n",
       "never    2136\n",
       "4~8       728\n",
       "gt8       264\n",
       "Name: Restaurant20To50, dtype: int64"
      ]
     },
     "execution_count": 48,
     "metadata": {},
     "output_type": "execute_result"
    }
   ],
   "source": [
    "data['Restaurant20To50'].value_counts()"
   ]
  },
  {
   "cell_type": "code",
   "execution_count": 49,
   "metadata": {},
   "outputs": [],
   "source": [
    "data[\"Restaurant20To50\"]=data[\"Restaurant20To50\"].str.replace(\"never\",\"0\")\n",
    "data[\"Restaurant20To50\"]=data[\"Restaurant20To50\"].str.replace(\"less1\",\"1\")\n",
    "data[\"Restaurant20To50\"]=data[\"Restaurant20To50\"].str.replace(\"1~3\",\"2\")\n",
    "data[\"Restaurant20To50\"]=data[\"Restaurant20To50\"].str.replace(\"4~8\",\"6\")\n",
    "data[\"Restaurant20To50\"]=data[\"Restaurant20To50\"].str.replace(\"gt8\",\"9\")"
   ]
  },
  {
   "cell_type": "code",
   "execution_count": 50,
   "metadata": {},
   "outputs": [],
   "source": [
    "data[\"Restaurant20To50\"]=pd.to_numeric(data[\"Restaurant20To50\"])"
   ]
  },
  {
   "cell_type": "code",
   "execution_count": 51,
   "metadata": {},
   "outputs": [
    {
     "data": {
      "text/plain": [
       "1.0    6077\n",
       "2.0    3290\n",
       "0.0    2136\n",
       "6.0     728\n",
       "9.0     264\n",
       "Name: Restaurant20To50, dtype: int64"
      ]
     },
     "execution_count": 51,
     "metadata": {},
     "output_type": "execute_result"
    }
   ],
   "source": [
    "data['Restaurant20To50'].value_counts()"
   ]
  },
  {
   "cell_type": "code",
   "execution_count": null,
   "metadata": {},
   "outputs": [],
   "source": []
  },
  {
   "cell_type": "code",
   "execution_count": null,
   "metadata": {},
   "outputs": [],
   "source": []
  },
  {
   "cell_type": "markdown",
   "metadata": {},
   "source": [
    "## Filling the NaN values"
   ]
  },
  {
   "cell_type": "code",
   "execution_count": 56,
   "metadata": {},
   "outputs": [
    {
     "data": {
      "text/plain": [
       "13370"
      ]
     },
     "execution_count": 56,
     "metadata": {},
     "output_type": "execute_result"
    }
   ],
   "source": [
    "data.isnull().sum().sum()"
   ]
  },
  {
   "cell_type": "markdown",
   "metadata": {},
   "source": [
    "## Duplicates"
   ]
  },
  {
   "cell_type": "code",
   "execution_count": 57,
   "metadata": {},
   "outputs": [
    {
     "data": {
      "text/plain": [
       "Index(['destination', 'passanger', 'weather', 'temperature', 'time', 'coupon',\n",
       "       'expiration', 'gender', 'age', 'maritalStatus', 'has_children',\n",
       "       'education', 'occupation', 'income', 'car', 'Bar', 'CoffeeHouse',\n",
       "       'CarryAway', 'RestaurantLessThan20', 'Restaurant20To50',\n",
       "       'toCoupon_GEQ5min', 'toCoupon_GEQ15min', 'toCoupon_GEQ25min',\n",
       "       'direction_same', 'direction_opp', 'Y'],\n",
       "      dtype='object')"
      ]
     },
     "execution_count": 57,
     "metadata": {},
     "output_type": "execute_result"
    }
   ],
   "source": [
    "# check the duplicates in all the columns \n",
    "\n",
    "data.columns"
   ]
  },
  {
   "cell_type": "code",
   "execution_count": null,
   "metadata": {},
   "outputs": [],
   "source": []
  },
  {
   "cell_type": "code",
   "execution_count": 58,
   "metadata": {},
   "outputs": [
    {
     "data": {
      "text/html": [
       "<div>\n",
       "<style scoped>\n",
       "    .dataframe tbody tr th:only-of-type {\n",
       "        vertical-align: middle;\n",
       "    }\n",
       "\n",
       "    .dataframe tbody tr th {\n",
       "        vertical-align: top;\n",
       "    }\n",
       "\n",
       "    .dataframe thead th {\n",
       "        text-align: right;\n",
       "    }\n",
       "</style>\n",
       "<table border=\"1\" class=\"dataframe\">\n",
       "  <thead>\n",
       "    <tr style=\"text-align: right;\">\n",
       "      <th></th>\n",
       "      <th>destination</th>\n",
       "      <th>passanger</th>\n",
       "      <th>weather</th>\n",
       "      <th>temperature</th>\n",
       "      <th>time</th>\n",
       "      <th>coupon</th>\n",
       "      <th>expiration</th>\n",
       "      <th>gender</th>\n",
       "      <th>age</th>\n",
       "      <th>maritalStatus</th>\n",
       "      <th>...</th>\n",
       "      <th>CoffeeHouse</th>\n",
       "      <th>CarryAway</th>\n",
       "      <th>RestaurantLessThan20</th>\n",
       "      <th>Restaurant20To50</th>\n",
       "      <th>toCoupon_GEQ5min</th>\n",
       "      <th>toCoupon_GEQ15min</th>\n",
       "      <th>toCoupon_GEQ25min</th>\n",
       "      <th>direction_same</th>\n",
       "      <th>direction_opp</th>\n",
       "      <th>Y</th>\n",
       "    </tr>\n",
       "  </thead>\n",
       "  <tbody>\n",
       "    <tr>\n",
       "      <th>0</th>\n",
       "      <td>No Urgent Place</td>\n",
       "      <td>Alone</td>\n",
       "      <td>Sunny</td>\n",
       "      <td>55</td>\n",
       "      <td>2PM</td>\n",
       "      <td>Restaurant(&lt;20)</td>\n",
       "      <td>24</td>\n",
       "      <td>Female</td>\n",
       "      <td>21</td>\n",
       "      <td>Unmarried partner</td>\n",
       "      <td>...</td>\n",
       "      <td>0</td>\n",
       "      <td>NaN</td>\n",
       "      <td>6.0</td>\n",
       "      <td>2.0</td>\n",
       "      <td>1</td>\n",
       "      <td>0</td>\n",
       "      <td>0</td>\n",
       "      <td>0</td>\n",
       "      <td>1</td>\n",
       "      <td>1</td>\n",
       "    </tr>\n",
       "    <tr>\n",
       "      <th>1</th>\n",
       "      <td>No Urgent Place</td>\n",
       "      <td>Friend(s)</td>\n",
       "      <td>Sunny</td>\n",
       "      <td>80</td>\n",
       "      <td>10AM</td>\n",
       "      <td>Coffee House</td>\n",
       "      <td>2</td>\n",
       "      <td>Female</td>\n",
       "      <td>21</td>\n",
       "      <td>Unmarried partner</td>\n",
       "      <td>...</td>\n",
       "      <td>0</td>\n",
       "      <td>NaN</td>\n",
       "      <td>6.0</td>\n",
       "      <td>2.0</td>\n",
       "      <td>1</td>\n",
       "      <td>0</td>\n",
       "      <td>0</td>\n",
       "      <td>0</td>\n",
       "      <td>1</td>\n",
       "      <td>0</td>\n",
       "    </tr>\n",
       "    <tr>\n",
       "      <th>2</th>\n",
       "      <td>No Urgent Place</td>\n",
       "      <td>Friend(s)</td>\n",
       "      <td>Sunny</td>\n",
       "      <td>80</td>\n",
       "      <td>10AM</td>\n",
       "      <td>Carry out &amp; Take away</td>\n",
       "      <td>2</td>\n",
       "      <td>Female</td>\n",
       "      <td>21</td>\n",
       "      <td>Unmarried partner</td>\n",
       "      <td>...</td>\n",
       "      <td>0</td>\n",
       "      <td>NaN</td>\n",
       "      <td>6.0</td>\n",
       "      <td>2.0</td>\n",
       "      <td>1</td>\n",
       "      <td>1</td>\n",
       "      <td>0</td>\n",
       "      <td>0</td>\n",
       "      <td>1</td>\n",
       "      <td>1</td>\n",
       "    </tr>\n",
       "    <tr>\n",
       "      <th>3</th>\n",
       "      <td>No Urgent Place</td>\n",
       "      <td>Friend(s)</td>\n",
       "      <td>Sunny</td>\n",
       "      <td>80</td>\n",
       "      <td>2PM</td>\n",
       "      <td>Coffee House</td>\n",
       "      <td>2</td>\n",
       "      <td>Female</td>\n",
       "      <td>21</td>\n",
       "      <td>Unmarried partner</td>\n",
       "      <td>...</td>\n",
       "      <td>0</td>\n",
       "      <td>NaN</td>\n",
       "      <td>6.0</td>\n",
       "      <td>2.0</td>\n",
       "      <td>1</td>\n",
       "      <td>1</td>\n",
       "      <td>0</td>\n",
       "      <td>0</td>\n",
       "      <td>1</td>\n",
       "      <td>0</td>\n",
       "    </tr>\n",
       "    <tr>\n",
       "      <th>4</th>\n",
       "      <td>No Urgent Place</td>\n",
       "      <td>Friend(s)</td>\n",
       "      <td>Sunny</td>\n",
       "      <td>80</td>\n",
       "      <td>2PM</td>\n",
       "      <td>Coffee House</td>\n",
       "      <td>24</td>\n",
       "      <td>Female</td>\n",
       "      <td>21</td>\n",
       "      <td>Unmarried partner</td>\n",
       "      <td>...</td>\n",
       "      <td>0</td>\n",
       "      <td>NaN</td>\n",
       "      <td>6.0</td>\n",
       "      <td>2.0</td>\n",
       "      <td>1</td>\n",
       "      <td>1</td>\n",
       "      <td>0</td>\n",
       "      <td>0</td>\n",
       "      <td>1</td>\n",
       "      <td>0</td>\n",
       "    </tr>\n",
       "    <tr>\n",
       "      <th>...</th>\n",
       "      <td>...</td>\n",
       "      <td>...</td>\n",
       "      <td>...</td>\n",
       "      <td>...</td>\n",
       "      <td>...</td>\n",
       "      <td>...</td>\n",
       "      <td>...</td>\n",
       "      <td>...</td>\n",
       "      <td>...</td>\n",
       "      <td>...</td>\n",
       "      <td>...</td>\n",
       "      <td>...</td>\n",
       "      <td>...</td>\n",
       "      <td>...</td>\n",
       "      <td>...</td>\n",
       "      <td>...</td>\n",
       "      <td>...</td>\n",
       "      <td>...</td>\n",
       "      <td>...</td>\n",
       "      <td>...</td>\n",
       "      <td>...</td>\n",
       "    </tr>\n",
       "    <tr>\n",
       "      <th>12679</th>\n",
       "      <td>Home</td>\n",
       "      <td>Partner</td>\n",
       "      <td>Rainy</td>\n",
       "      <td>55</td>\n",
       "      <td>6PM</td>\n",
       "      <td>Carry out &amp; Take away</td>\n",
       "      <td>24</td>\n",
       "      <td>Male</td>\n",
       "      <td>26</td>\n",
       "      <td>Single</td>\n",
       "      <td>...</td>\n",
       "      <td>0</td>\n",
       "      <td>2.0</td>\n",
       "      <td>6.0</td>\n",
       "      <td>2.0</td>\n",
       "      <td>1</td>\n",
       "      <td>0</td>\n",
       "      <td>0</td>\n",
       "      <td>1</td>\n",
       "      <td>0</td>\n",
       "      <td>1</td>\n",
       "    </tr>\n",
       "    <tr>\n",
       "      <th>12680</th>\n",
       "      <td>Work</td>\n",
       "      <td>Alone</td>\n",
       "      <td>Rainy</td>\n",
       "      <td>55</td>\n",
       "      <td>7AM</td>\n",
       "      <td>Carry out &amp; Take away</td>\n",
       "      <td>24</td>\n",
       "      <td>Male</td>\n",
       "      <td>26</td>\n",
       "      <td>Single</td>\n",
       "      <td>...</td>\n",
       "      <td>0</td>\n",
       "      <td>2.0</td>\n",
       "      <td>6.0</td>\n",
       "      <td>2.0</td>\n",
       "      <td>1</td>\n",
       "      <td>0</td>\n",
       "      <td>0</td>\n",
       "      <td>0</td>\n",
       "      <td>1</td>\n",
       "      <td>1</td>\n",
       "    </tr>\n",
       "    <tr>\n",
       "      <th>12681</th>\n",
       "      <td>Work</td>\n",
       "      <td>Alone</td>\n",
       "      <td>Snowy</td>\n",
       "      <td>30</td>\n",
       "      <td>7AM</td>\n",
       "      <td>Coffee House</td>\n",
       "      <td>24</td>\n",
       "      <td>Male</td>\n",
       "      <td>26</td>\n",
       "      <td>Single</td>\n",
       "      <td>...</td>\n",
       "      <td>0</td>\n",
       "      <td>2.0</td>\n",
       "      <td>6.0</td>\n",
       "      <td>2.0</td>\n",
       "      <td>1</td>\n",
       "      <td>0</td>\n",
       "      <td>0</td>\n",
       "      <td>1</td>\n",
       "      <td>0</td>\n",
       "      <td>0</td>\n",
       "    </tr>\n",
       "    <tr>\n",
       "      <th>12682</th>\n",
       "      <td>Work</td>\n",
       "      <td>Alone</td>\n",
       "      <td>Snowy</td>\n",
       "      <td>30</td>\n",
       "      <td>7AM</td>\n",
       "      <td>Bar</td>\n",
       "      <td>24</td>\n",
       "      <td>Male</td>\n",
       "      <td>26</td>\n",
       "      <td>Single</td>\n",
       "      <td>...</td>\n",
       "      <td>0</td>\n",
       "      <td>2.0</td>\n",
       "      <td>6.0</td>\n",
       "      <td>2.0</td>\n",
       "      <td>1</td>\n",
       "      <td>1</td>\n",
       "      <td>1</td>\n",
       "      <td>0</td>\n",
       "      <td>1</td>\n",
       "      <td>0</td>\n",
       "    </tr>\n",
       "    <tr>\n",
       "      <th>12683</th>\n",
       "      <td>Work</td>\n",
       "      <td>Alone</td>\n",
       "      <td>Sunny</td>\n",
       "      <td>80</td>\n",
       "      <td>7AM</td>\n",
       "      <td>Restaurant(20-50)</td>\n",
       "      <td>2</td>\n",
       "      <td>Male</td>\n",
       "      <td>26</td>\n",
       "      <td>Single</td>\n",
       "      <td>...</td>\n",
       "      <td>0</td>\n",
       "      <td>2.0</td>\n",
       "      <td>6.0</td>\n",
       "      <td>2.0</td>\n",
       "      <td>1</td>\n",
       "      <td>0</td>\n",
       "      <td>0</td>\n",
       "      <td>1</td>\n",
       "      <td>0</td>\n",
       "      <td>0</td>\n",
       "    </tr>\n",
       "  </tbody>\n",
       "</table>\n",
       "<p>12610 rows × 26 columns</p>\n",
       "</div>"
      ],
      "text/plain": [
       "           destination  passanger weather  temperature  time  \\\n",
       "0      No Urgent Place      Alone   Sunny           55   2PM   \n",
       "1      No Urgent Place  Friend(s)   Sunny           80  10AM   \n",
       "2      No Urgent Place  Friend(s)   Sunny           80  10AM   \n",
       "3      No Urgent Place  Friend(s)   Sunny           80   2PM   \n",
       "4      No Urgent Place  Friend(s)   Sunny           80   2PM   \n",
       "...                ...        ...     ...          ...   ...   \n",
       "12679             Home    Partner   Rainy           55   6PM   \n",
       "12680             Work      Alone   Rainy           55   7AM   \n",
       "12681             Work      Alone   Snowy           30   7AM   \n",
       "12682             Work      Alone   Snowy           30   7AM   \n",
       "12683             Work      Alone   Sunny           80   7AM   \n",
       "\n",
       "                      coupon  expiration  gender  age      maritalStatus  ...  \\\n",
       "0            Restaurant(<20)          24  Female   21  Unmarried partner  ...   \n",
       "1               Coffee House           2  Female   21  Unmarried partner  ...   \n",
       "2      Carry out & Take away           2  Female   21  Unmarried partner  ...   \n",
       "3               Coffee House           2  Female   21  Unmarried partner  ...   \n",
       "4               Coffee House          24  Female   21  Unmarried partner  ...   \n",
       "...                      ...         ...     ...  ...                ...  ...   \n",
       "12679  Carry out & Take away          24    Male   26             Single  ...   \n",
       "12680  Carry out & Take away          24    Male   26             Single  ...   \n",
       "12681           Coffee House          24    Male   26             Single  ...   \n",
       "12682                    Bar          24    Male   26             Single  ...   \n",
       "12683      Restaurant(20-50)           2    Male   26             Single  ...   \n",
       "\n",
       "       CoffeeHouse CarryAway RestaurantLessThan20  Restaurant20To50  \\\n",
       "0                0       NaN                  6.0               2.0   \n",
       "1                0       NaN                  6.0               2.0   \n",
       "2                0       NaN                  6.0               2.0   \n",
       "3                0       NaN                  6.0               2.0   \n",
       "4                0       NaN                  6.0               2.0   \n",
       "...            ...       ...                  ...               ...   \n",
       "12679            0       2.0                  6.0               2.0   \n",
       "12680            0       2.0                  6.0               2.0   \n",
       "12681            0       2.0                  6.0               2.0   \n",
       "12682            0       2.0                  6.0               2.0   \n",
       "12683            0       2.0                  6.0               2.0   \n",
       "\n",
       "      toCoupon_GEQ5min  toCoupon_GEQ15min toCoupon_GEQ25min  direction_same  \\\n",
       "0                    1                  0                 0               0   \n",
       "1                    1                  0                 0               0   \n",
       "2                    1                  1                 0               0   \n",
       "3                    1                  1                 0               0   \n",
       "4                    1                  1                 0               0   \n",
       "...                ...                ...               ...             ...   \n",
       "12679                1                  0                 0               1   \n",
       "12680                1                  0                 0               0   \n",
       "12681                1                  0                 0               1   \n",
       "12682                1                  1                 1               0   \n",
       "12683                1                  0                 0               1   \n",
       "\n",
       "       direction_opp  Y  \n",
       "0                  1  1  \n",
       "1                  1  0  \n",
       "2                  1  1  \n",
       "3                  1  0  \n",
       "4                  1  0  \n",
       "...              ... ..  \n",
       "12679              0  1  \n",
       "12680              1  1  \n",
       "12681              0  0  \n",
       "12682              1  0  \n",
       "12683              0  0  \n",
       "\n",
       "[12610 rows x 26 columns]"
      ]
     },
     "execution_count": 58,
     "metadata": {},
     "output_type": "execute_result"
    }
   ],
   "source": [
    "# Identify columns to check for duplicates\n",
    "columns_to_check = ['destination', 'passanger', 'weather', 'temperature', 'time', 'coupon',\n",
    "       'expiration', 'gender', 'age', 'maritalStatus', 'has_children',\n",
    "       'education', 'occupation', 'income', 'car', 'Bar', 'CoffeeHouse',\n",
    "       'CarryAway', 'RestaurantLessThan20', 'Restaurant20To50',\n",
    "       'toCoupon_GEQ5min', 'toCoupon_GEQ15min', 'toCoupon_GEQ25min',\n",
    "       'direction_same', 'direction_opp', 'Y']\n",
    "\n",
    "# Remove duplicates and update the DataFrame\n",
    "data.drop_duplicates(subset=columns_to_check, inplace=True)\n",
    "data"
   ]
  },
  {
   "cell_type": "code",
   "execution_count": 59,
   "metadata": {},
   "outputs": [
    {
     "name": "stdout",
     "output_type": "stream",
     "text": [
      "0\n"
     ]
    }
   ],
   "source": [
    "# Check for duplicates\n",
    "print(data.duplicated().sum())"
   ]
  },
  {
   "cell_type": "markdown",
   "metadata": {},
   "source": [
    "## Dropping the NaN"
   ]
  },
  {
   "cell_type": "code",
   "execution_count": 60,
   "metadata": {},
   "outputs": [
    {
     "data": {
      "text/html": [
       "<div>\n",
       "<style scoped>\n",
       "    .dataframe tbody tr th:only-of-type {\n",
       "        vertical-align: middle;\n",
       "    }\n",
       "\n",
       "    .dataframe tbody tr th {\n",
       "        vertical-align: top;\n",
       "    }\n",
       "\n",
       "    .dataframe thead th {\n",
       "        text-align: right;\n",
       "    }\n",
       "</style>\n",
       "<table border=\"1\" class=\"dataframe\">\n",
       "  <thead>\n",
       "    <tr style=\"text-align: right;\">\n",
       "      <th></th>\n",
       "      <th>destination</th>\n",
       "      <th>passanger</th>\n",
       "      <th>weather</th>\n",
       "      <th>temperature</th>\n",
       "      <th>time</th>\n",
       "      <th>coupon</th>\n",
       "      <th>expiration</th>\n",
       "      <th>gender</th>\n",
       "      <th>age</th>\n",
       "      <th>maritalStatus</th>\n",
       "      <th>...</th>\n",
       "      <th>CoffeeHouse</th>\n",
       "      <th>CarryAway</th>\n",
       "      <th>RestaurantLessThan20</th>\n",
       "      <th>Restaurant20To50</th>\n",
       "      <th>toCoupon_GEQ5min</th>\n",
       "      <th>toCoupon_GEQ15min</th>\n",
       "      <th>toCoupon_GEQ25min</th>\n",
       "      <th>direction_same</th>\n",
       "      <th>direction_opp</th>\n",
       "      <th>Y</th>\n",
       "    </tr>\n",
       "  </thead>\n",
       "  <tbody>\n",
       "    <tr>\n",
       "      <th>0</th>\n",
       "      <td>No Urgent Place</td>\n",
       "      <td>Alone</td>\n",
       "      <td>Sunny</td>\n",
       "      <td>55</td>\n",
       "      <td>2PM</td>\n",
       "      <td>Restaurant(&lt;20)</td>\n",
       "      <td>24</td>\n",
       "      <td>Female</td>\n",
       "      <td>21</td>\n",
       "      <td>Unmarried partner</td>\n",
       "      <td>...</td>\n",
       "      <td>0</td>\n",
       "      <td>NaN</td>\n",
       "      <td>6.0</td>\n",
       "      <td>2.0</td>\n",
       "      <td>1</td>\n",
       "      <td>0</td>\n",
       "      <td>0</td>\n",
       "      <td>0</td>\n",
       "      <td>1</td>\n",
       "      <td>1</td>\n",
       "    </tr>\n",
       "    <tr>\n",
       "      <th>1</th>\n",
       "      <td>No Urgent Place</td>\n",
       "      <td>Friend(s)</td>\n",
       "      <td>Sunny</td>\n",
       "      <td>80</td>\n",
       "      <td>10AM</td>\n",
       "      <td>Coffee House</td>\n",
       "      <td>2</td>\n",
       "      <td>Female</td>\n",
       "      <td>21</td>\n",
       "      <td>Unmarried partner</td>\n",
       "      <td>...</td>\n",
       "      <td>0</td>\n",
       "      <td>NaN</td>\n",
       "      <td>6.0</td>\n",
       "      <td>2.0</td>\n",
       "      <td>1</td>\n",
       "      <td>0</td>\n",
       "      <td>0</td>\n",
       "      <td>0</td>\n",
       "      <td>1</td>\n",
       "      <td>0</td>\n",
       "    </tr>\n",
       "    <tr>\n",
       "      <th>2</th>\n",
       "      <td>No Urgent Place</td>\n",
       "      <td>Friend(s)</td>\n",
       "      <td>Sunny</td>\n",
       "      <td>80</td>\n",
       "      <td>10AM</td>\n",
       "      <td>Carry out &amp; Take away</td>\n",
       "      <td>2</td>\n",
       "      <td>Female</td>\n",
       "      <td>21</td>\n",
       "      <td>Unmarried partner</td>\n",
       "      <td>...</td>\n",
       "      <td>0</td>\n",
       "      <td>NaN</td>\n",
       "      <td>6.0</td>\n",
       "      <td>2.0</td>\n",
       "      <td>1</td>\n",
       "      <td>1</td>\n",
       "      <td>0</td>\n",
       "      <td>0</td>\n",
       "      <td>1</td>\n",
       "      <td>1</td>\n",
       "    </tr>\n",
       "    <tr>\n",
       "      <th>3</th>\n",
       "      <td>No Urgent Place</td>\n",
       "      <td>Friend(s)</td>\n",
       "      <td>Sunny</td>\n",
       "      <td>80</td>\n",
       "      <td>2PM</td>\n",
       "      <td>Coffee House</td>\n",
       "      <td>2</td>\n",
       "      <td>Female</td>\n",
       "      <td>21</td>\n",
       "      <td>Unmarried partner</td>\n",
       "      <td>...</td>\n",
       "      <td>0</td>\n",
       "      <td>NaN</td>\n",
       "      <td>6.0</td>\n",
       "      <td>2.0</td>\n",
       "      <td>1</td>\n",
       "      <td>1</td>\n",
       "      <td>0</td>\n",
       "      <td>0</td>\n",
       "      <td>1</td>\n",
       "      <td>0</td>\n",
       "    </tr>\n",
       "    <tr>\n",
       "      <th>4</th>\n",
       "      <td>No Urgent Place</td>\n",
       "      <td>Friend(s)</td>\n",
       "      <td>Sunny</td>\n",
       "      <td>80</td>\n",
       "      <td>2PM</td>\n",
       "      <td>Coffee House</td>\n",
       "      <td>24</td>\n",
       "      <td>Female</td>\n",
       "      <td>21</td>\n",
       "      <td>Unmarried partner</td>\n",
       "      <td>...</td>\n",
       "      <td>0</td>\n",
       "      <td>NaN</td>\n",
       "      <td>6.0</td>\n",
       "      <td>2.0</td>\n",
       "      <td>1</td>\n",
       "      <td>1</td>\n",
       "      <td>0</td>\n",
       "      <td>0</td>\n",
       "      <td>1</td>\n",
       "      <td>0</td>\n",
       "    </tr>\n",
       "    <tr>\n",
       "      <th>...</th>\n",
       "      <td>...</td>\n",
       "      <td>...</td>\n",
       "      <td>...</td>\n",
       "      <td>...</td>\n",
       "      <td>...</td>\n",
       "      <td>...</td>\n",
       "      <td>...</td>\n",
       "      <td>...</td>\n",
       "      <td>...</td>\n",
       "      <td>...</td>\n",
       "      <td>...</td>\n",
       "      <td>...</td>\n",
       "      <td>...</td>\n",
       "      <td>...</td>\n",
       "      <td>...</td>\n",
       "      <td>...</td>\n",
       "      <td>...</td>\n",
       "      <td>...</td>\n",
       "      <td>...</td>\n",
       "      <td>...</td>\n",
       "      <td>...</td>\n",
       "    </tr>\n",
       "    <tr>\n",
       "      <th>12679</th>\n",
       "      <td>Home</td>\n",
       "      <td>Partner</td>\n",
       "      <td>Rainy</td>\n",
       "      <td>55</td>\n",
       "      <td>6PM</td>\n",
       "      <td>Carry out &amp; Take away</td>\n",
       "      <td>24</td>\n",
       "      <td>Male</td>\n",
       "      <td>26</td>\n",
       "      <td>Single</td>\n",
       "      <td>...</td>\n",
       "      <td>0</td>\n",
       "      <td>2.0</td>\n",
       "      <td>6.0</td>\n",
       "      <td>2.0</td>\n",
       "      <td>1</td>\n",
       "      <td>0</td>\n",
       "      <td>0</td>\n",
       "      <td>1</td>\n",
       "      <td>0</td>\n",
       "      <td>1</td>\n",
       "    </tr>\n",
       "    <tr>\n",
       "      <th>12680</th>\n",
       "      <td>Work</td>\n",
       "      <td>Alone</td>\n",
       "      <td>Rainy</td>\n",
       "      <td>55</td>\n",
       "      <td>7AM</td>\n",
       "      <td>Carry out &amp; Take away</td>\n",
       "      <td>24</td>\n",
       "      <td>Male</td>\n",
       "      <td>26</td>\n",
       "      <td>Single</td>\n",
       "      <td>...</td>\n",
       "      <td>0</td>\n",
       "      <td>2.0</td>\n",
       "      <td>6.0</td>\n",
       "      <td>2.0</td>\n",
       "      <td>1</td>\n",
       "      <td>0</td>\n",
       "      <td>0</td>\n",
       "      <td>0</td>\n",
       "      <td>1</td>\n",
       "      <td>1</td>\n",
       "    </tr>\n",
       "    <tr>\n",
       "      <th>12681</th>\n",
       "      <td>Work</td>\n",
       "      <td>Alone</td>\n",
       "      <td>Snowy</td>\n",
       "      <td>30</td>\n",
       "      <td>7AM</td>\n",
       "      <td>Coffee House</td>\n",
       "      <td>24</td>\n",
       "      <td>Male</td>\n",
       "      <td>26</td>\n",
       "      <td>Single</td>\n",
       "      <td>...</td>\n",
       "      <td>0</td>\n",
       "      <td>2.0</td>\n",
       "      <td>6.0</td>\n",
       "      <td>2.0</td>\n",
       "      <td>1</td>\n",
       "      <td>0</td>\n",
       "      <td>0</td>\n",
       "      <td>1</td>\n",
       "      <td>0</td>\n",
       "      <td>0</td>\n",
       "    </tr>\n",
       "    <tr>\n",
       "      <th>12682</th>\n",
       "      <td>Work</td>\n",
       "      <td>Alone</td>\n",
       "      <td>Snowy</td>\n",
       "      <td>30</td>\n",
       "      <td>7AM</td>\n",
       "      <td>Bar</td>\n",
       "      <td>24</td>\n",
       "      <td>Male</td>\n",
       "      <td>26</td>\n",
       "      <td>Single</td>\n",
       "      <td>...</td>\n",
       "      <td>0</td>\n",
       "      <td>2.0</td>\n",
       "      <td>6.0</td>\n",
       "      <td>2.0</td>\n",
       "      <td>1</td>\n",
       "      <td>1</td>\n",
       "      <td>1</td>\n",
       "      <td>0</td>\n",
       "      <td>1</td>\n",
       "      <td>0</td>\n",
       "    </tr>\n",
       "    <tr>\n",
       "      <th>12683</th>\n",
       "      <td>Work</td>\n",
       "      <td>Alone</td>\n",
       "      <td>Sunny</td>\n",
       "      <td>80</td>\n",
       "      <td>7AM</td>\n",
       "      <td>Restaurant(20-50)</td>\n",
       "      <td>2</td>\n",
       "      <td>Male</td>\n",
       "      <td>26</td>\n",
       "      <td>Single</td>\n",
       "      <td>...</td>\n",
       "      <td>0</td>\n",
       "      <td>2.0</td>\n",
       "      <td>6.0</td>\n",
       "      <td>2.0</td>\n",
       "      <td>1</td>\n",
       "      <td>0</td>\n",
       "      <td>0</td>\n",
       "      <td>1</td>\n",
       "      <td>0</td>\n",
       "      <td>0</td>\n",
       "    </tr>\n",
       "  </tbody>\n",
       "</table>\n",
       "<p>12610 rows × 26 columns</p>\n",
       "</div>"
      ],
      "text/plain": [
       "           destination  passanger weather  temperature  time  \\\n",
       "0      No Urgent Place      Alone   Sunny           55   2PM   \n",
       "1      No Urgent Place  Friend(s)   Sunny           80  10AM   \n",
       "2      No Urgent Place  Friend(s)   Sunny           80  10AM   \n",
       "3      No Urgent Place  Friend(s)   Sunny           80   2PM   \n",
       "4      No Urgent Place  Friend(s)   Sunny           80   2PM   \n",
       "...                ...        ...     ...          ...   ...   \n",
       "12679             Home    Partner   Rainy           55   6PM   \n",
       "12680             Work      Alone   Rainy           55   7AM   \n",
       "12681             Work      Alone   Snowy           30   7AM   \n",
       "12682             Work      Alone   Snowy           30   7AM   \n",
       "12683             Work      Alone   Sunny           80   7AM   \n",
       "\n",
       "                      coupon  expiration  gender  age      maritalStatus  ...  \\\n",
       "0            Restaurant(<20)          24  Female   21  Unmarried partner  ...   \n",
       "1               Coffee House           2  Female   21  Unmarried partner  ...   \n",
       "2      Carry out & Take away           2  Female   21  Unmarried partner  ...   \n",
       "3               Coffee House           2  Female   21  Unmarried partner  ...   \n",
       "4               Coffee House          24  Female   21  Unmarried partner  ...   \n",
       "...                      ...         ...     ...  ...                ...  ...   \n",
       "12679  Carry out & Take away          24    Male   26             Single  ...   \n",
       "12680  Carry out & Take away          24    Male   26             Single  ...   \n",
       "12681           Coffee House          24    Male   26             Single  ...   \n",
       "12682                    Bar          24    Male   26             Single  ...   \n",
       "12683      Restaurant(20-50)           2    Male   26             Single  ...   \n",
       "\n",
       "       CoffeeHouse CarryAway RestaurantLessThan20  Restaurant20To50  \\\n",
       "0                0       NaN                  6.0               2.0   \n",
       "1                0       NaN                  6.0               2.0   \n",
       "2                0       NaN                  6.0               2.0   \n",
       "3                0       NaN                  6.0               2.0   \n",
       "4                0       NaN                  6.0               2.0   \n",
       "...            ...       ...                  ...               ...   \n",
       "12679            0       2.0                  6.0               2.0   \n",
       "12680            0       2.0                  6.0               2.0   \n",
       "12681            0       2.0                  6.0               2.0   \n",
       "12682            0       2.0                  6.0               2.0   \n",
       "12683            0       2.0                  6.0               2.0   \n",
       "\n",
       "      toCoupon_GEQ5min  toCoupon_GEQ15min toCoupon_GEQ25min  direction_same  \\\n",
       "0                    1                  0                 0               0   \n",
       "1                    1                  0                 0               0   \n",
       "2                    1                  1                 0               0   \n",
       "3                    1                  1                 0               0   \n",
       "4                    1                  1                 0               0   \n",
       "...                ...                ...               ...             ...   \n",
       "12679                1                  0                 0               1   \n",
       "12680                1                  0                 0               0   \n",
       "12681                1                  0                 0               1   \n",
       "12682                1                  1                 1               0   \n",
       "12683                1                  0                 0               1   \n",
       "\n",
       "       direction_opp  Y  \n",
       "0                  1  1  \n",
       "1                  1  0  \n",
       "2                  1  1  \n",
       "3                  1  0  \n",
       "4                  1  0  \n",
       "...              ... ..  \n",
       "12679              0  1  \n",
       "12680              1  1  \n",
       "12681              0  0  \n",
       "12682              1  0  \n",
       "12683              0  0  \n",
       "\n",
       "[12610 rows x 26 columns]"
      ]
     },
     "execution_count": 60,
     "metadata": {},
     "output_type": "execute_result"
    }
   ],
   "source": [
    "#this will dropp all rows that contains an NaN in it \n",
    "data.dropna(how='all') #(how='all')\n",
    "data"
   ]
  },
  {
   "cell_type": "markdown",
   "metadata": {},
   "source": [
    "## Deleting the column 'car'"
   ]
  },
  {
   "cell_type": "code",
   "execution_count": 61,
   "metadata": {},
   "outputs": [
    {
     "data": {
      "text/html": [
       "<div>\n",
       "<style scoped>\n",
       "    .dataframe tbody tr th:only-of-type {\n",
       "        vertical-align: middle;\n",
       "    }\n",
       "\n",
       "    .dataframe tbody tr th {\n",
       "        vertical-align: top;\n",
       "    }\n",
       "\n",
       "    .dataframe thead th {\n",
       "        text-align: right;\n",
       "    }\n",
       "</style>\n",
       "<table border=\"1\" class=\"dataframe\">\n",
       "  <thead>\n",
       "    <tr style=\"text-align: right;\">\n",
       "      <th></th>\n",
       "      <th>destination</th>\n",
       "      <th>passanger</th>\n",
       "      <th>weather</th>\n",
       "      <th>temperature</th>\n",
       "      <th>time</th>\n",
       "      <th>coupon</th>\n",
       "      <th>expiration</th>\n",
       "      <th>gender</th>\n",
       "      <th>age</th>\n",
       "      <th>maritalStatus</th>\n",
       "      <th>...</th>\n",
       "      <th>CoffeeHouse</th>\n",
       "      <th>CarryAway</th>\n",
       "      <th>RestaurantLessThan20</th>\n",
       "      <th>Restaurant20To50</th>\n",
       "      <th>toCoupon_GEQ5min</th>\n",
       "      <th>toCoupon_GEQ15min</th>\n",
       "      <th>toCoupon_GEQ25min</th>\n",
       "      <th>direction_same</th>\n",
       "      <th>direction_opp</th>\n",
       "      <th>Y</th>\n",
       "    </tr>\n",
       "  </thead>\n",
       "  <tbody>\n",
       "    <tr>\n",
       "      <th>0</th>\n",
       "      <td>No Urgent Place</td>\n",
       "      <td>Alone</td>\n",
       "      <td>Sunny</td>\n",
       "      <td>55</td>\n",
       "      <td>2PM</td>\n",
       "      <td>Restaurant(&lt;20)</td>\n",
       "      <td>24</td>\n",
       "      <td>Female</td>\n",
       "      <td>21</td>\n",
       "      <td>Unmarried partner</td>\n",
       "      <td>...</td>\n",
       "      <td>0</td>\n",
       "      <td>NaN</td>\n",
       "      <td>6.0</td>\n",
       "      <td>2.0</td>\n",
       "      <td>1</td>\n",
       "      <td>0</td>\n",
       "      <td>0</td>\n",
       "      <td>0</td>\n",
       "      <td>1</td>\n",
       "      <td>1</td>\n",
       "    </tr>\n",
       "    <tr>\n",
       "      <th>1</th>\n",
       "      <td>No Urgent Place</td>\n",
       "      <td>Friend(s)</td>\n",
       "      <td>Sunny</td>\n",
       "      <td>80</td>\n",
       "      <td>10AM</td>\n",
       "      <td>Coffee House</td>\n",
       "      <td>2</td>\n",
       "      <td>Female</td>\n",
       "      <td>21</td>\n",
       "      <td>Unmarried partner</td>\n",
       "      <td>...</td>\n",
       "      <td>0</td>\n",
       "      <td>NaN</td>\n",
       "      <td>6.0</td>\n",
       "      <td>2.0</td>\n",
       "      <td>1</td>\n",
       "      <td>0</td>\n",
       "      <td>0</td>\n",
       "      <td>0</td>\n",
       "      <td>1</td>\n",
       "      <td>0</td>\n",
       "    </tr>\n",
       "    <tr>\n",
       "      <th>2</th>\n",
       "      <td>No Urgent Place</td>\n",
       "      <td>Friend(s)</td>\n",
       "      <td>Sunny</td>\n",
       "      <td>80</td>\n",
       "      <td>10AM</td>\n",
       "      <td>Carry out &amp; Take away</td>\n",
       "      <td>2</td>\n",
       "      <td>Female</td>\n",
       "      <td>21</td>\n",
       "      <td>Unmarried partner</td>\n",
       "      <td>...</td>\n",
       "      <td>0</td>\n",
       "      <td>NaN</td>\n",
       "      <td>6.0</td>\n",
       "      <td>2.0</td>\n",
       "      <td>1</td>\n",
       "      <td>1</td>\n",
       "      <td>0</td>\n",
       "      <td>0</td>\n",
       "      <td>1</td>\n",
       "      <td>1</td>\n",
       "    </tr>\n",
       "    <tr>\n",
       "      <th>3</th>\n",
       "      <td>No Urgent Place</td>\n",
       "      <td>Friend(s)</td>\n",
       "      <td>Sunny</td>\n",
       "      <td>80</td>\n",
       "      <td>2PM</td>\n",
       "      <td>Coffee House</td>\n",
       "      <td>2</td>\n",
       "      <td>Female</td>\n",
       "      <td>21</td>\n",
       "      <td>Unmarried partner</td>\n",
       "      <td>...</td>\n",
       "      <td>0</td>\n",
       "      <td>NaN</td>\n",
       "      <td>6.0</td>\n",
       "      <td>2.0</td>\n",
       "      <td>1</td>\n",
       "      <td>1</td>\n",
       "      <td>0</td>\n",
       "      <td>0</td>\n",
       "      <td>1</td>\n",
       "      <td>0</td>\n",
       "    </tr>\n",
       "    <tr>\n",
       "      <th>4</th>\n",
       "      <td>No Urgent Place</td>\n",
       "      <td>Friend(s)</td>\n",
       "      <td>Sunny</td>\n",
       "      <td>80</td>\n",
       "      <td>2PM</td>\n",
       "      <td>Coffee House</td>\n",
       "      <td>24</td>\n",
       "      <td>Female</td>\n",
       "      <td>21</td>\n",
       "      <td>Unmarried partner</td>\n",
       "      <td>...</td>\n",
       "      <td>0</td>\n",
       "      <td>NaN</td>\n",
       "      <td>6.0</td>\n",
       "      <td>2.0</td>\n",
       "      <td>1</td>\n",
       "      <td>1</td>\n",
       "      <td>0</td>\n",
       "      <td>0</td>\n",
       "      <td>1</td>\n",
       "      <td>0</td>\n",
       "    </tr>\n",
       "    <tr>\n",
       "      <th>...</th>\n",
       "      <td>...</td>\n",
       "      <td>...</td>\n",
       "      <td>...</td>\n",
       "      <td>...</td>\n",
       "      <td>...</td>\n",
       "      <td>...</td>\n",
       "      <td>...</td>\n",
       "      <td>...</td>\n",
       "      <td>...</td>\n",
       "      <td>...</td>\n",
       "      <td>...</td>\n",
       "      <td>...</td>\n",
       "      <td>...</td>\n",
       "      <td>...</td>\n",
       "      <td>...</td>\n",
       "      <td>...</td>\n",
       "      <td>...</td>\n",
       "      <td>...</td>\n",
       "      <td>...</td>\n",
       "      <td>...</td>\n",
       "      <td>...</td>\n",
       "    </tr>\n",
       "    <tr>\n",
       "      <th>12679</th>\n",
       "      <td>Home</td>\n",
       "      <td>Partner</td>\n",
       "      <td>Rainy</td>\n",
       "      <td>55</td>\n",
       "      <td>6PM</td>\n",
       "      <td>Carry out &amp; Take away</td>\n",
       "      <td>24</td>\n",
       "      <td>Male</td>\n",
       "      <td>26</td>\n",
       "      <td>Single</td>\n",
       "      <td>...</td>\n",
       "      <td>0</td>\n",
       "      <td>2.0</td>\n",
       "      <td>6.0</td>\n",
       "      <td>2.0</td>\n",
       "      <td>1</td>\n",
       "      <td>0</td>\n",
       "      <td>0</td>\n",
       "      <td>1</td>\n",
       "      <td>0</td>\n",
       "      <td>1</td>\n",
       "    </tr>\n",
       "    <tr>\n",
       "      <th>12680</th>\n",
       "      <td>Work</td>\n",
       "      <td>Alone</td>\n",
       "      <td>Rainy</td>\n",
       "      <td>55</td>\n",
       "      <td>7AM</td>\n",
       "      <td>Carry out &amp; Take away</td>\n",
       "      <td>24</td>\n",
       "      <td>Male</td>\n",
       "      <td>26</td>\n",
       "      <td>Single</td>\n",
       "      <td>...</td>\n",
       "      <td>0</td>\n",
       "      <td>2.0</td>\n",
       "      <td>6.0</td>\n",
       "      <td>2.0</td>\n",
       "      <td>1</td>\n",
       "      <td>0</td>\n",
       "      <td>0</td>\n",
       "      <td>0</td>\n",
       "      <td>1</td>\n",
       "      <td>1</td>\n",
       "    </tr>\n",
       "    <tr>\n",
       "      <th>12681</th>\n",
       "      <td>Work</td>\n",
       "      <td>Alone</td>\n",
       "      <td>Snowy</td>\n",
       "      <td>30</td>\n",
       "      <td>7AM</td>\n",
       "      <td>Coffee House</td>\n",
       "      <td>24</td>\n",
       "      <td>Male</td>\n",
       "      <td>26</td>\n",
       "      <td>Single</td>\n",
       "      <td>...</td>\n",
       "      <td>0</td>\n",
       "      <td>2.0</td>\n",
       "      <td>6.0</td>\n",
       "      <td>2.0</td>\n",
       "      <td>1</td>\n",
       "      <td>0</td>\n",
       "      <td>0</td>\n",
       "      <td>1</td>\n",
       "      <td>0</td>\n",
       "      <td>0</td>\n",
       "    </tr>\n",
       "    <tr>\n",
       "      <th>12682</th>\n",
       "      <td>Work</td>\n",
       "      <td>Alone</td>\n",
       "      <td>Snowy</td>\n",
       "      <td>30</td>\n",
       "      <td>7AM</td>\n",
       "      <td>Bar</td>\n",
       "      <td>24</td>\n",
       "      <td>Male</td>\n",
       "      <td>26</td>\n",
       "      <td>Single</td>\n",
       "      <td>...</td>\n",
       "      <td>0</td>\n",
       "      <td>2.0</td>\n",
       "      <td>6.0</td>\n",
       "      <td>2.0</td>\n",
       "      <td>1</td>\n",
       "      <td>1</td>\n",
       "      <td>1</td>\n",
       "      <td>0</td>\n",
       "      <td>1</td>\n",
       "      <td>0</td>\n",
       "    </tr>\n",
       "    <tr>\n",
       "      <th>12683</th>\n",
       "      <td>Work</td>\n",
       "      <td>Alone</td>\n",
       "      <td>Sunny</td>\n",
       "      <td>80</td>\n",
       "      <td>7AM</td>\n",
       "      <td>Restaurant(20-50)</td>\n",
       "      <td>2</td>\n",
       "      <td>Male</td>\n",
       "      <td>26</td>\n",
       "      <td>Single</td>\n",
       "      <td>...</td>\n",
       "      <td>0</td>\n",
       "      <td>2.0</td>\n",
       "      <td>6.0</td>\n",
       "      <td>2.0</td>\n",
       "      <td>1</td>\n",
       "      <td>0</td>\n",
       "      <td>0</td>\n",
       "      <td>1</td>\n",
       "      <td>0</td>\n",
       "      <td>0</td>\n",
       "    </tr>\n",
       "  </tbody>\n",
       "</table>\n",
       "<p>12610 rows × 25 columns</p>\n",
       "</div>"
      ],
      "text/plain": [
       "           destination  passanger weather  temperature  time  \\\n",
       "0      No Urgent Place      Alone   Sunny           55   2PM   \n",
       "1      No Urgent Place  Friend(s)   Sunny           80  10AM   \n",
       "2      No Urgent Place  Friend(s)   Sunny           80  10AM   \n",
       "3      No Urgent Place  Friend(s)   Sunny           80   2PM   \n",
       "4      No Urgent Place  Friend(s)   Sunny           80   2PM   \n",
       "...                ...        ...     ...          ...   ...   \n",
       "12679             Home    Partner   Rainy           55   6PM   \n",
       "12680             Work      Alone   Rainy           55   7AM   \n",
       "12681             Work      Alone   Snowy           30   7AM   \n",
       "12682             Work      Alone   Snowy           30   7AM   \n",
       "12683             Work      Alone   Sunny           80   7AM   \n",
       "\n",
       "                      coupon  expiration  gender  age      maritalStatus  ...  \\\n",
       "0            Restaurant(<20)          24  Female   21  Unmarried partner  ...   \n",
       "1               Coffee House           2  Female   21  Unmarried partner  ...   \n",
       "2      Carry out & Take away           2  Female   21  Unmarried partner  ...   \n",
       "3               Coffee House           2  Female   21  Unmarried partner  ...   \n",
       "4               Coffee House          24  Female   21  Unmarried partner  ...   \n",
       "...                      ...         ...     ...  ...                ...  ...   \n",
       "12679  Carry out & Take away          24    Male   26             Single  ...   \n",
       "12680  Carry out & Take away          24    Male   26             Single  ...   \n",
       "12681           Coffee House          24    Male   26             Single  ...   \n",
       "12682                    Bar          24    Male   26             Single  ...   \n",
       "12683      Restaurant(20-50)           2    Male   26             Single  ...   \n",
       "\n",
       "       CoffeeHouse CarryAway RestaurantLessThan20  Restaurant20To50  \\\n",
       "0                0       NaN                  6.0               2.0   \n",
       "1                0       NaN                  6.0               2.0   \n",
       "2                0       NaN                  6.0               2.0   \n",
       "3                0       NaN                  6.0               2.0   \n",
       "4                0       NaN                  6.0               2.0   \n",
       "...            ...       ...                  ...               ...   \n",
       "12679            0       2.0                  6.0               2.0   \n",
       "12680            0       2.0                  6.0               2.0   \n",
       "12681            0       2.0                  6.0               2.0   \n",
       "12682            0       2.0                  6.0               2.0   \n",
       "12683            0       2.0                  6.0               2.0   \n",
       "\n",
       "       toCoupon_GEQ5min toCoupon_GEQ15min  toCoupon_GEQ25min  direction_same  \\\n",
       "0                     1                 0                  0               0   \n",
       "1                     1                 0                  0               0   \n",
       "2                     1                 1                  0               0   \n",
       "3                     1                 1                  0               0   \n",
       "4                     1                 1                  0               0   \n",
       "...                 ...               ...                ...             ...   \n",
       "12679                 1                 0                  0               1   \n",
       "12680                 1                 0                  0               0   \n",
       "12681                 1                 0                  0               1   \n",
       "12682                 1                 1                  1               0   \n",
       "12683                 1                 0                  0               1   \n",
       "\n",
       "       direction_opp  Y  \n",
       "0                  1  1  \n",
       "1                  1  0  \n",
       "2                  1  1  \n",
       "3                  1  0  \n",
       "4                  1  0  \n",
       "...              ... ..  \n",
       "12679              0  1  \n",
       "12680              1  1  \n",
       "12681              0  0  \n",
       "12682              1  0  \n",
       "12683              0  0  \n",
       "\n",
       "[12610 rows x 25 columns]"
      ]
     },
     "execution_count": 61,
     "metadata": {},
     "output_type": "execute_result"
    }
   ],
   "source": [
    "# I want to delete the column 'car' because I think we supposed all our customers are driving a car and to be able to eliminate all the rows that has a NaN in it\n",
    "\n",
    "data = data.drop('car', axis=1)\n",
    "data\n"
   ]
  },
  {
   "cell_type": "code",
   "execution_count": 62,
   "metadata": {},
   "outputs": [
    {
     "data": {
      "text/plain": [
       "Index(['destination', 'passanger', 'weather', 'temperature', 'time', 'coupon',\n",
       "       'expiration', 'gender', 'age', 'maritalStatus', 'has_children',\n",
       "       'education', 'occupation', 'income', 'Bar', 'CoffeeHouse', 'CarryAway',\n",
       "       'RestaurantLessThan20', 'Restaurant20To50', 'toCoupon_GEQ5min',\n",
       "       'toCoupon_GEQ15min', 'toCoupon_GEQ25min', 'direction_same',\n",
       "       'direction_opp', 'Y'],\n",
       "      dtype='object')"
      ]
     },
     "execution_count": 62,
     "metadata": {},
     "output_type": "execute_result"
    }
   ],
   "source": [
    "data.columns\n",
    "# we see that we don't have the colomn 'car' now"
   ]
  },
  {
   "cell_type": "code",
   "execution_count": 63,
   "metadata": {},
   "outputs": [
    {
     "data": {
      "text/plain": [
       "destination               0\n",
       "passanger                 0\n",
       "weather                   0\n",
       "temperature               0\n",
       "time                      0\n",
       "coupon                    0\n",
       "expiration                0\n",
       "gender                    0\n",
       "age                       0\n",
       "maritalStatus             0\n",
       "has_children              0\n",
       "education                 0\n",
       "occupation                0\n",
       "income                    0\n",
       "Bar                     107\n",
       "CoffeeHouse             217\n",
       "CarryAway               150\n",
       "RestaurantLessThan20    129\n",
       "Restaurant20To50        189\n",
       "toCoupon_GEQ5min          0\n",
       "toCoupon_GEQ15min         0\n",
       "toCoupon_GEQ25min         0\n",
       "direction_same            0\n",
       "direction_opp             0\n",
       "Y                         0\n",
       "dtype: int64"
      ]
     },
     "execution_count": 63,
     "metadata": {},
     "output_type": "execute_result"
    }
   ],
   "source": [
    "data.isnull().sum()"
   ]
  },
  {
   "cell_type": "code",
   "execution_count": 64,
   "metadata": {},
   "outputs": [
    {
     "data": {
      "text/plain": [
       "792"
      ]
     },
     "execution_count": 64,
     "metadata": {},
     "output_type": "execute_result"
    }
   ],
   "source": [
    "data.isnull().sum().sum()"
   ]
  },
  {
   "cell_type": "code",
   "execution_count": 65,
   "metadata": {},
   "outputs": [
    {
     "data": {
      "text/html": [
       "<div>\n",
       "<style scoped>\n",
       "    .dataframe tbody tr th:only-of-type {\n",
       "        vertical-align: middle;\n",
       "    }\n",
       "\n",
       "    .dataframe tbody tr th {\n",
       "        vertical-align: top;\n",
       "    }\n",
       "\n",
       "    .dataframe thead th {\n",
       "        text-align: right;\n",
       "    }\n",
       "</style>\n",
       "<table border=\"1\" class=\"dataframe\">\n",
       "  <thead>\n",
       "    <tr style=\"text-align: right;\">\n",
       "      <th></th>\n",
       "      <th>destination</th>\n",
       "      <th>passanger</th>\n",
       "      <th>weather</th>\n",
       "      <th>temperature</th>\n",
       "      <th>time</th>\n",
       "      <th>coupon</th>\n",
       "      <th>expiration</th>\n",
       "      <th>gender</th>\n",
       "      <th>age</th>\n",
       "      <th>maritalStatus</th>\n",
       "      <th>...</th>\n",
       "      <th>CoffeeHouse</th>\n",
       "      <th>CarryAway</th>\n",
       "      <th>RestaurantLessThan20</th>\n",
       "      <th>Restaurant20To50</th>\n",
       "      <th>toCoupon_GEQ5min</th>\n",
       "      <th>toCoupon_GEQ15min</th>\n",
       "      <th>toCoupon_GEQ25min</th>\n",
       "      <th>direction_same</th>\n",
       "      <th>direction_opp</th>\n",
       "      <th>Y</th>\n",
       "    </tr>\n",
       "  </thead>\n",
       "  <tbody>\n",
       "    <tr>\n",
       "      <th>22</th>\n",
       "      <td>No Urgent Place</td>\n",
       "      <td>Alone</td>\n",
       "      <td>Sunny</td>\n",
       "      <td>55</td>\n",
       "      <td>2PM</td>\n",
       "      <td>Restaurant(&lt;20)</td>\n",
       "      <td>24</td>\n",
       "      <td>Male</td>\n",
       "      <td>21</td>\n",
       "      <td>Single</td>\n",
       "      <td>...</td>\n",
       "      <td>1</td>\n",
       "      <td>6.0</td>\n",
       "      <td>6.0</td>\n",
       "      <td>1.0</td>\n",
       "      <td>1</td>\n",
       "      <td>0</td>\n",
       "      <td>0</td>\n",
       "      <td>0</td>\n",
       "      <td>1</td>\n",
       "      <td>1</td>\n",
       "    </tr>\n",
       "    <tr>\n",
       "      <th>23</th>\n",
       "      <td>No Urgent Place</td>\n",
       "      <td>Friend(s)</td>\n",
       "      <td>Sunny</td>\n",
       "      <td>80</td>\n",
       "      <td>10AM</td>\n",
       "      <td>Coffee House</td>\n",
       "      <td>2</td>\n",
       "      <td>Male</td>\n",
       "      <td>21</td>\n",
       "      <td>Single</td>\n",
       "      <td>...</td>\n",
       "      <td>1</td>\n",
       "      <td>6.0</td>\n",
       "      <td>6.0</td>\n",
       "      <td>1.0</td>\n",
       "      <td>1</td>\n",
       "      <td>0</td>\n",
       "      <td>0</td>\n",
       "      <td>0</td>\n",
       "      <td>1</td>\n",
       "      <td>0</td>\n",
       "    </tr>\n",
       "    <tr>\n",
       "      <th>24</th>\n",
       "      <td>No Urgent Place</td>\n",
       "      <td>Friend(s)</td>\n",
       "      <td>Sunny</td>\n",
       "      <td>80</td>\n",
       "      <td>10AM</td>\n",
       "      <td>Bar</td>\n",
       "      <td>24</td>\n",
       "      <td>Male</td>\n",
       "      <td>21</td>\n",
       "      <td>Single</td>\n",
       "      <td>...</td>\n",
       "      <td>1</td>\n",
       "      <td>6.0</td>\n",
       "      <td>6.0</td>\n",
       "      <td>1.0</td>\n",
       "      <td>1</td>\n",
       "      <td>0</td>\n",
       "      <td>0</td>\n",
       "      <td>0</td>\n",
       "      <td>1</td>\n",
       "      <td>1</td>\n",
       "    </tr>\n",
       "    <tr>\n",
       "      <th>25</th>\n",
       "      <td>No Urgent Place</td>\n",
       "      <td>Friend(s)</td>\n",
       "      <td>Sunny</td>\n",
       "      <td>80</td>\n",
       "      <td>10AM</td>\n",
       "      <td>Carry out &amp; Take away</td>\n",
       "      <td>2</td>\n",
       "      <td>Male</td>\n",
       "      <td>21</td>\n",
       "      <td>Single</td>\n",
       "      <td>...</td>\n",
       "      <td>1</td>\n",
       "      <td>6.0</td>\n",
       "      <td>6.0</td>\n",
       "      <td>1.0</td>\n",
       "      <td>1</td>\n",
       "      <td>1</td>\n",
       "      <td>0</td>\n",
       "      <td>0</td>\n",
       "      <td>1</td>\n",
       "      <td>0</td>\n",
       "    </tr>\n",
       "    <tr>\n",
       "      <th>26</th>\n",
       "      <td>No Urgent Place</td>\n",
       "      <td>Friend(s)</td>\n",
       "      <td>Sunny</td>\n",
       "      <td>80</td>\n",
       "      <td>2PM</td>\n",
       "      <td>Coffee House</td>\n",
       "      <td>24</td>\n",
       "      <td>Male</td>\n",
       "      <td>21</td>\n",
       "      <td>Single</td>\n",
       "      <td>...</td>\n",
       "      <td>1</td>\n",
       "      <td>6.0</td>\n",
       "      <td>6.0</td>\n",
       "      <td>1.0</td>\n",
       "      <td>1</td>\n",
       "      <td>0</td>\n",
       "      <td>0</td>\n",
       "      <td>0</td>\n",
       "      <td>1</td>\n",
       "      <td>0</td>\n",
       "    </tr>\n",
       "    <tr>\n",
       "      <th>...</th>\n",
       "      <td>...</td>\n",
       "      <td>...</td>\n",
       "      <td>...</td>\n",
       "      <td>...</td>\n",
       "      <td>...</td>\n",
       "      <td>...</td>\n",
       "      <td>...</td>\n",
       "      <td>...</td>\n",
       "      <td>...</td>\n",
       "      <td>...</td>\n",
       "      <td>...</td>\n",
       "      <td>...</td>\n",
       "      <td>...</td>\n",
       "      <td>...</td>\n",
       "      <td>...</td>\n",
       "      <td>...</td>\n",
       "      <td>...</td>\n",
       "      <td>...</td>\n",
       "      <td>...</td>\n",
       "      <td>...</td>\n",
       "      <td>...</td>\n",
       "    </tr>\n",
       "    <tr>\n",
       "      <th>12679</th>\n",
       "      <td>Home</td>\n",
       "      <td>Partner</td>\n",
       "      <td>Rainy</td>\n",
       "      <td>55</td>\n",
       "      <td>6PM</td>\n",
       "      <td>Carry out &amp; Take away</td>\n",
       "      <td>24</td>\n",
       "      <td>Male</td>\n",
       "      <td>26</td>\n",
       "      <td>Single</td>\n",
       "      <td>...</td>\n",
       "      <td>0</td>\n",
       "      <td>2.0</td>\n",
       "      <td>6.0</td>\n",
       "      <td>2.0</td>\n",
       "      <td>1</td>\n",
       "      <td>0</td>\n",
       "      <td>0</td>\n",
       "      <td>1</td>\n",
       "      <td>0</td>\n",
       "      <td>1</td>\n",
       "    </tr>\n",
       "    <tr>\n",
       "      <th>12680</th>\n",
       "      <td>Work</td>\n",
       "      <td>Alone</td>\n",
       "      <td>Rainy</td>\n",
       "      <td>55</td>\n",
       "      <td>7AM</td>\n",
       "      <td>Carry out &amp; Take away</td>\n",
       "      <td>24</td>\n",
       "      <td>Male</td>\n",
       "      <td>26</td>\n",
       "      <td>Single</td>\n",
       "      <td>...</td>\n",
       "      <td>0</td>\n",
       "      <td>2.0</td>\n",
       "      <td>6.0</td>\n",
       "      <td>2.0</td>\n",
       "      <td>1</td>\n",
       "      <td>0</td>\n",
       "      <td>0</td>\n",
       "      <td>0</td>\n",
       "      <td>1</td>\n",
       "      <td>1</td>\n",
       "    </tr>\n",
       "    <tr>\n",
       "      <th>12681</th>\n",
       "      <td>Work</td>\n",
       "      <td>Alone</td>\n",
       "      <td>Snowy</td>\n",
       "      <td>30</td>\n",
       "      <td>7AM</td>\n",
       "      <td>Coffee House</td>\n",
       "      <td>24</td>\n",
       "      <td>Male</td>\n",
       "      <td>26</td>\n",
       "      <td>Single</td>\n",
       "      <td>...</td>\n",
       "      <td>0</td>\n",
       "      <td>2.0</td>\n",
       "      <td>6.0</td>\n",
       "      <td>2.0</td>\n",
       "      <td>1</td>\n",
       "      <td>0</td>\n",
       "      <td>0</td>\n",
       "      <td>1</td>\n",
       "      <td>0</td>\n",
       "      <td>0</td>\n",
       "    </tr>\n",
       "    <tr>\n",
       "      <th>12682</th>\n",
       "      <td>Work</td>\n",
       "      <td>Alone</td>\n",
       "      <td>Snowy</td>\n",
       "      <td>30</td>\n",
       "      <td>7AM</td>\n",
       "      <td>Bar</td>\n",
       "      <td>24</td>\n",
       "      <td>Male</td>\n",
       "      <td>26</td>\n",
       "      <td>Single</td>\n",
       "      <td>...</td>\n",
       "      <td>0</td>\n",
       "      <td>2.0</td>\n",
       "      <td>6.0</td>\n",
       "      <td>2.0</td>\n",
       "      <td>1</td>\n",
       "      <td>1</td>\n",
       "      <td>1</td>\n",
       "      <td>0</td>\n",
       "      <td>1</td>\n",
       "      <td>0</td>\n",
       "    </tr>\n",
       "    <tr>\n",
       "      <th>12683</th>\n",
       "      <td>Work</td>\n",
       "      <td>Alone</td>\n",
       "      <td>Sunny</td>\n",
       "      <td>80</td>\n",
       "      <td>7AM</td>\n",
       "      <td>Restaurant(20-50)</td>\n",
       "      <td>2</td>\n",
       "      <td>Male</td>\n",
       "      <td>26</td>\n",
       "      <td>Single</td>\n",
       "      <td>...</td>\n",
       "      <td>0</td>\n",
       "      <td>2.0</td>\n",
       "      <td>6.0</td>\n",
       "      <td>2.0</td>\n",
       "      <td>1</td>\n",
       "      <td>0</td>\n",
       "      <td>0</td>\n",
       "      <td>1</td>\n",
       "      <td>0</td>\n",
       "      <td>0</td>\n",
       "    </tr>\n",
       "  </tbody>\n",
       "</table>\n",
       "<p>12007 rows × 25 columns</p>\n",
       "</div>"
      ],
      "text/plain": [
       "           destination  passanger weather  temperature  time  \\\n",
       "22     No Urgent Place      Alone   Sunny           55   2PM   \n",
       "23     No Urgent Place  Friend(s)   Sunny           80  10AM   \n",
       "24     No Urgent Place  Friend(s)   Sunny           80  10AM   \n",
       "25     No Urgent Place  Friend(s)   Sunny           80  10AM   \n",
       "26     No Urgent Place  Friend(s)   Sunny           80   2PM   \n",
       "...                ...        ...     ...          ...   ...   \n",
       "12679             Home    Partner   Rainy           55   6PM   \n",
       "12680             Work      Alone   Rainy           55   7AM   \n",
       "12681             Work      Alone   Snowy           30   7AM   \n",
       "12682             Work      Alone   Snowy           30   7AM   \n",
       "12683             Work      Alone   Sunny           80   7AM   \n",
       "\n",
       "                      coupon  expiration gender  age maritalStatus  ...  \\\n",
       "22           Restaurant(<20)          24   Male   21        Single  ...   \n",
       "23              Coffee House           2   Male   21        Single  ...   \n",
       "24                       Bar          24   Male   21        Single  ...   \n",
       "25     Carry out & Take away           2   Male   21        Single  ...   \n",
       "26              Coffee House          24   Male   21        Single  ...   \n",
       "...                      ...         ...    ...  ...           ...  ...   \n",
       "12679  Carry out & Take away          24   Male   26        Single  ...   \n",
       "12680  Carry out & Take away          24   Male   26        Single  ...   \n",
       "12681           Coffee House          24   Male   26        Single  ...   \n",
       "12682                    Bar          24   Male   26        Single  ...   \n",
       "12683      Restaurant(20-50)           2   Male   26        Single  ...   \n",
       "\n",
       "       CoffeeHouse CarryAway RestaurantLessThan20  Restaurant20To50  \\\n",
       "22               1       6.0                  6.0               1.0   \n",
       "23               1       6.0                  6.0               1.0   \n",
       "24               1       6.0                  6.0               1.0   \n",
       "25               1       6.0                  6.0               1.0   \n",
       "26               1       6.0                  6.0               1.0   \n",
       "...            ...       ...                  ...               ...   \n",
       "12679            0       2.0                  6.0               2.0   \n",
       "12680            0       2.0                  6.0               2.0   \n",
       "12681            0       2.0                  6.0               2.0   \n",
       "12682            0       2.0                  6.0               2.0   \n",
       "12683            0       2.0                  6.0               2.0   \n",
       "\n",
       "       toCoupon_GEQ5min toCoupon_GEQ15min  toCoupon_GEQ25min  direction_same  \\\n",
       "22                    1                 0                  0               0   \n",
       "23                    1                 0                  0               0   \n",
       "24                    1                 0                  0               0   \n",
       "25                    1                 1                  0               0   \n",
       "26                    1                 0                  0               0   \n",
       "...                 ...               ...                ...             ...   \n",
       "12679                 1                 0                  0               1   \n",
       "12680                 1                 0                  0               0   \n",
       "12681                 1                 0                  0               1   \n",
       "12682                 1                 1                  1               0   \n",
       "12683                 1                 0                  0               1   \n",
       "\n",
       "       direction_opp  Y  \n",
       "22                 1  1  \n",
       "23                 1  0  \n",
       "24                 1  1  \n",
       "25                 1  0  \n",
       "26                 1  0  \n",
       "...              ... ..  \n",
       "12679              0  1  \n",
       "12680              1  1  \n",
       "12681              0  0  \n",
       "12682              1  0  \n",
       "12683              0  0  \n",
       "\n",
       "[12007 rows x 25 columns]"
      ]
     },
     "execution_count": 65,
     "metadata": {},
     "output_type": "execute_result"
    }
   ],
   "source": [
    "#now we dropp all the rows that have any NaN in it \n",
    "\n",
    "data= data.dropna(how='any')\n",
    "data"
   ]
  },
  {
   "cell_type": "code",
   "execution_count": 66,
   "metadata": {},
   "outputs": [
    {
     "data": {
      "text/plain": [
       "destination             0\n",
       "passanger               0\n",
       "weather                 0\n",
       "temperature             0\n",
       "time                    0\n",
       "coupon                  0\n",
       "expiration              0\n",
       "gender                  0\n",
       "age                     0\n",
       "maritalStatus           0\n",
       "has_children            0\n",
       "education               0\n",
       "occupation              0\n",
       "income                  0\n",
       "Bar                     0\n",
       "CoffeeHouse             0\n",
       "CarryAway               0\n",
       "RestaurantLessThan20    0\n",
       "Restaurant20To50        0\n",
       "toCoupon_GEQ5min        0\n",
       "toCoupon_GEQ15min       0\n",
       "toCoupon_GEQ25min       0\n",
       "direction_same          0\n",
       "direction_opp           0\n",
       "Y                       0\n",
       "dtype: int64"
      ]
     },
     "execution_count": 66,
     "metadata": {},
     "output_type": "execute_result"
    }
   ],
   "source": [
    "\n",
    "#we have no NaN in our Dataset\n",
    "data.isnull().sum()"
   ]
  },
  {
   "cell_type": "code",
   "execution_count": 67,
   "metadata": {},
   "outputs": [
    {
     "data": {
      "text/html": [
       "<div>\n",
       "<style scoped>\n",
       "    .dataframe tbody tr th:only-of-type {\n",
       "        vertical-align: middle;\n",
       "    }\n",
       "\n",
       "    .dataframe tbody tr th {\n",
       "        vertical-align: top;\n",
       "    }\n",
       "\n",
       "    .dataframe thead th {\n",
       "        text-align: right;\n",
       "    }\n",
       "</style>\n",
       "<table border=\"1\" class=\"dataframe\">\n",
       "  <thead>\n",
       "    <tr style=\"text-align: right;\">\n",
       "      <th></th>\n",
       "      <th>destination</th>\n",
       "      <th>passanger</th>\n",
       "      <th>weather</th>\n",
       "      <th>temperature</th>\n",
       "      <th>time</th>\n",
       "      <th>coupon</th>\n",
       "      <th>expiration</th>\n",
       "      <th>gender</th>\n",
       "      <th>age</th>\n",
       "      <th>maritalStatus</th>\n",
       "      <th>...</th>\n",
       "      <th>CoffeeHouse</th>\n",
       "      <th>CarryAway</th>\n",
       "      <th>RestaurantLessThan20</th>\n",
       "      <th>Restaurant20To50</th>\n",
       "      <th>toCoupon_GEQ5min</th>\n",
       "      <th>toCoupon_GEQ15min</th>\n",
       "      <th>toCoupon_GEQ25min</th>\n",
       "      <th>direction_same</th>\n",
       "      <th>direction_opp</th>\n",
       "      <th>Y</th>\n",
       "    </tr>\n",
       "  </thead>\n",
       "  <tbody>\n",
       "    <tr>\n",
       "      <th>22</th>\n",
       "      <td>False</td>\n",
       "      <td>False</td>\n",
       "      <td>False</td>\n",
       "      <td>False</td>\n",
       "      <td>False</td>\n",
       "      <td>False</td>\n",
       "      <td>False</td>\n",
       "      <td>False</td>\n",
       "      <td>False</td>\n",
       "      <td>False</td>\n",
       "      <td>...</td>\n",
       "      <td>False</td>\n",
       "      <td>False</td>\n",
       "      <td>False</td>\n",
       "      <td>False</td>\n",
       "      <td>False</td>\n",
       "      <td>False</td>\n",
       "      <td>False</td>\n",
       "      <td>False</td>\n",
       "      <td>False</td>\n",
       "      <td>False</td>\n",
       "    </tr>\n",
       "    <tr>\n",
       "      <th>23</th>\n",
       "      <td>False</td>\n",
       "      <td>False</td>\n",
       "      <td>False</td>\n",
       "      <td>False</td>\n",
       "      <td>False</td>\n",
       "      <td>False</td>\n",
       "      <td>False</td>\n",
       "      <td>False</td>\n",
       "      <td>False</td>\n",
       "      <td>False</td>\n",
       "      <td>...</td>\n",
       "      <td>False</td>\n",
       "      <td>False</td>\n",
       "      <td>False</td>\n",
       "      <td>False</td>\n",
       "      <td>False</td>\n",
       "      <td>False</td>\n",
       "      <td>False</td>\n",
       "      <td>False</td>\n",
       "      <td>False</td>\n",
       "      <td>False</td>\n",
       "    </tr>\n",
       "    <tr>\n",
       "      <th>24</th>\n",
       "      <td>False</td>\n",
       "      <td>False</td>\n",
       "      <td>False</td>\n",
       "      <td>False</td>\n",
       "      <td>False</td>\n",
       "      <td>False</td>\n",
       "      <td>False</td>\n",
       "      <td>False</td>\n",
       "      <td>False</td>\n",
       "      <td>False</td>\n",
       "      <td>...</td>\n",
       "      <td>False</td>\n",
       "      <td>False</td>\n",
       "      <td>False</td>\n",
       "      <td>False</td>\n",
       "      <td>False</td>\n",
       "      <td>False</td>\n",
       "      <td>False</td>\n",
       "      <td>False</td>\n",
       "      <td>False</td>\n",
       "      <td>False</td>\n",
       "    </tr>\n",
       "    <tr>\n",
       "      <th>25</th>\n",
       "      <td>False</td>\n",
       "      <td>False</td>\n",
       "      <td>False</td>\n",
       "      <td>False</td>\n",
       "      <td>False</td>\n",
       "      <td>False</td>\n",
       "      <td>False</td>\n",
       "      <td>False</td>\n",
       "      <td>False</td>\n",
       "      <td>False</td>\n",
       "      <td>...</td>\n",
       "      <td>False</td>\n",
       "      <td>False</td>\n",
       "      <td>False</td>\n",
       "      <td>False</td>\n",
       "      <td>False</td>\n",
       "      <td>False</td>\n",
       "      <td>False</td>\n",
       "      <td>False</td>\n",
       "      <td>False</td>\n",
       "      <td>False</td>\n",
       "    </tr>\n",
       "    <tr>\n",
       "      <th>26</th>\n",
       "      <td>False</td>\n",
       "      <td>False</td>\n",
       "      <td>False</td>\n",
       "      <td>False</td>\n",
       "      <td>False</td>\n",
       "      <td>False</td>\n",
       "      <td>False</td>\n",
       "      <td>False</td>\n",
       "      <td>False</td>\n",
       "      <td>False</td>\n",
       "      <td>...</td>\n",
       "      <td>False</td>\n",
       "      <td>False</td>\n",
       "      <td>False</td>\n",
       "      <td>False</td>\n",
       "      <td>False</td>\n",
       "      <td>False</td>\n",
       "      <td>False</td>\n",
       "      <td>False</td>\n",
       "      <td>False</td>\n",
       "      <td>False</td>\n",
       "    </tr>\n",
       "    <tr>\n",
       "      <th>...</th>\n",
       "      <td>...</td>\n",
       "      <td>...</td>\n",
       "      <td>...</td>\n",
       "      <td>...</td>\n",
       "      <td>...</td>\n",
       "      <td>...</td>\n",
       "      <td>...</td>\n",
       "      <td>...</td>\n",
       "      <td>...</td>\n",
       "      <td>...</td>\n",
       "      <td>...</td>\n",
       "      <td>...</td>\n",
       "      <td>...</td>\n",
       "      <td>...</td>\n",
       "      <td>...</td>\n",
       "      <td>...</td>\n",
       "      <td>...</td>\n",
       "      <td>...</td>\n",
       "      <td>...</td>\n",
       "      <td>...</td>\n",
       "      <td>...</td>\n",
       "    </tr>\n",
       "    <tr>\n",
       "      <th>12679</th>\n",
       "      <td>False</td>\n",
       "      <td>False</td>\n",
       "      <td>False</td>\n",
       "      <td>False</td>\n",
       "      <td>False</td>\n",
       "      <td>False</td>\n",
       "      <td>False</td>\n",
       "      <td>False</td>\n",
       "      <td>False</td>\n",
       "      <td>False</td>\n",
       "      <td>...</td>\n",
       "      <td>False</td>\n",
       "      <td>False</td>\n",
       "      <td>False</td>\n",
       "      <td>False</td>\n",
       "      <td>False</td>\n",
       "      <td>False</td>\n",
       "      <td>False</td>\n",
       "      <td>False</td>\n",
       "      <td>False</td>\n",
       "      <td>False</td>\n",
       "    </tr>\n",
       "    <tr>\n",
       "      <th>12680</th>\n",
       "      <td>False</td>\n",
       "      <td>False</td>\n",
       "      <td>False</td>\n",
       "      <td>False</td>\n",
       "      <td>False</td>\n",
       "      <td>False</td>\n",
       "      <td>False</td>\n",
       "      <td>False</td>\n",
       "      <td>False</td>\n",
       "      <td>False</td>\n",
       "      <td>...</td>\n",
       "      <td>False</td>\n",
       "      <td>False</td>\n",
       "      <td>False</td>\n",
       "      <td>False</td>\n",
       "      <td>False</td>\n",
       "      <td>False</td>\n",
       "      <td>False</td>\n",
       "      <td>False</td>\n",
       "      <td>False</td>\n",
       "      <td>False</td>\n",
       "    </tr>\n",
       "    <tr>\n",
       "      <th>12681</th>\n",
       "      <td>False</td>\n",
       "      <td>False</td>\n",
       "      <td>False</td>\n",
       "      <td>False</td>\n",
       "      <td>False</td>\n",
       "      <td>False</td>\n",
       "      <td>False</td>\n",
       "      <td>False</td>\n",
       "      <td>False</td>\n",
       "      <td>False</td>\n",
       "      <td>...</td>\n",
       "      <td>False</td>\n",
       "      <td>False</td>\n",
       "      <td>False</td>\n",
       "      <td>False</td>\n",
       "      <td>False</td>\n",
       "      <td>False</td>\n",
       "      <td>False</td>\n",
       "      <td>False</td>\n",
       "      <td>False</td>\n",
       "      <td>False</td>\n",
       "    </tr>\n",
       "    <tr>\n",
       "      <th>12682</th>\n",
       "      <td>False</td>\n",
       "      <td>False</td>\n",
       "      <td>False</td>\n",
       "      <td>False</td>\n",
       "      <td>False</td>\n",
       "      <td>False</td>\n",
       "      <td>False</td>\n",
       "      <td>False</td>\n",
       "      <td>False</td>\n",
       "      <td>False</td>\n",
       "      <td>...</td>\n",
       "      <td>False</td>\n",
       "      <td>False</td>\n",
       "      <td>False</td>\n",
       "      <td>False</td>\n",
       "      <td>False</td>\n",
       "      <td>False</td>\n",
       "      <td>False</td>\n",
       "      <td>False</td>\n",
       "      <td>False</td>\n",
       "      <td>False</td>\n",
       "    </tr>\n",
       "    <tr>\n",
       "      <th>12683</th>\n",
       "      <td>False</td>\n",
       "      <td>False</td>\n",
       "      <td>False</td>\n",
       "      <td>False</td>\n",
       "      <td>False</td>\n",
       "      <td>False</td>\n",
       "      <td>False</td>\n",
       "      <td>False</td>\n",
       "      <td>False</td>\n",
       "      <td>False</td>\n",
       "      <td>...</td>\n",
       "      <td>False</td>\n",
       "      <td>False</td>\n",
       "      <td>False</td>\n",
       "      <td>False</td>\n",
       "      <td>False</td>\n",
       "      <td>False</td>\n",
       "      <td>False</td>\n",
       "      <td>False</td>\n",
       "      <td>False</td>\n",
       "      <td>False</td>\n",
       "    </tr>\n",
       "  </tbody>\n",
       "</table>\n",
       "<p>12007 rows × 25 columns</p>\n",
       "</div>"
      ],
      "text/plain": [
       "       destination  passanger  weather  temperature   time  coupon  \\\n",
       "22           False      False    False        False  False   False   \n",
       "23           False      False    False        False  False   False   \n",
       "24           False      False    False        False  False   False   \n",
       "25           False      False    False        False  False   False   \n",
       "26           False      False    False        False  False   False   \n",
       "...            ...        ...      ...          ...    ...     ...   \n",
       "12679        False      False    False        False  False   False   \n",
       "12680        False      False    False        False  False   False   \n",
       "12681        False      False    False        False  False   False   \n",
       "12682        False      False    False        False  False   False   \n",
       "12683        False      False    False        False  False   False   \n",
       "\n",
       "       expiration  gender    age  maritalStatus  ...  CoffeeHouse  CarryAway  \\\n",
       "22          False   False  False          False  ...        False      False   \n",
       "23          False   False  False          False  ...        False      False   \n",
       "24          False   False  False          False  ...        False      False   \n",
       "25          False   False  False          False  ...        False      False   \n",
       "26          False   False  False          False  ...        False      False   \n",
       "...           ...     ...    ...            ...  ...          ...        ...   \n",
       "12679       False   False  False          False  ...        False      False   \n",
       "12680       False   False  False          False  ...        False      False   \n",
       "12681       False   False  False          False  ...        False      False   \n",
       "12682       False   False  False          False  ...        False      False   \n",
       "12683       False   False  False          False  ...        False      False   \n",
       "\n",
       "       RestaurantLessThan20  Restaurant20To50  toCoupon_GEQ5min  \\\n",
       "22                    False             False             False   \n",
       "23                    False             False             False   \n",
       "24                    False             False             False   \n",
       "25                    False             False             False   \n",
       "26                    False             False             False   \n",
       "...                     ...               ...               ...   \n",
       "12679                 False             False             False   \n",
       "12680                 False             False             False   \n",
       "12681                 False             False             False   \n",
       "12682                 False             False             False   \n",
       "12683                 False             False             False   \n",
       "\n",
       "       toCoupon_GEQ15min  toCoupon_GEQ25min  direction_same  direction_opp  \\\n",
       "22                 False              False           False          False   \n",
       "23                 False              False           False          False   \n",
       "24                 False              False           False          False   \n",
       "25                 False              False           False          False   \n",
       "26                 False              False           False          False   \n",
       "...                  ...                ...             ...            ...   \n",
       "12679              False              False           False          False   \n",
       "12680              False              False           False          False   \n",
       "12681              False              False           False          False   \n",
       "12682              False              False           False          False   \n",
       "12683              False              False           False          False   \n",
       "\n",
       "           Y  \n",
       "22     False  \n",
       "23     False  \n",
       "24     False  \n",
       "25     False  \n",
       "26     False  \n",
       "...      ...  \n",
       "12679  False  \n",
       "12680  False  \n",
       "12681  False  \n",
       "12682  False  \n",
       "12683  False  \n",
       "\n",
       "[12007 rows x 25 columns]"
      ]
     },
     "execution_count": 67,
     "metadata": {},
     "output_type": "execute_result"
    }
   ],
   "source": [
    "data.isnull()"
   ]
  },
  {
   "cell_type": "code",
   "execution_count": 72,
   "metadata": {},
   "outputs": [
    {
     "data": {
      "text/plain": [
       "(12007, 25)"
      ]
     },
     "execution_count": 72,
     "metadata": {},
     "output_type": "execute_result"
    }
   ],
   "source": [
    "data.shape"
   ]
  },
  {
   "cell_type": "markdown",
   "metadata": {},
   "source": [
    "4. What proportion of the total observations chose to accept the coupon? \n",
    "\n"
   ]
  },
  {
   "cell_type": "markdown",
   "metadata": {},
   "source": [
    "## Accepted coupons"
   ]
  },
  {
   "cell_type": "code",
   "execution_count": 68,
   "metadata": {},
   "outputs": [
    {
     "name": "stdout",
     "output_type": "stream",
     "text": [
      "Proportion of total observations that chose to accept the coupon: 0.57\n"
     ]
    }
   ],
   "source": [
    "accepted_coupons = data[data['Y'] == 1].shape[0]\n",
    "total_observations = data.shape[0]\n",
    "\n",
    "proportion_accepted = accepted_coupons / total_observations\n",
    "\n",
    "print(f\"Proportion of total observations that chose to accept the coupon: {proportion_accepted:.2f}\")"
   ]
  },
  {
   "cell_type": "markdown",
   "metadata": {},
   "source": [
    "5. Use a bar plot to visualize the `coupon` column."
   ]
  },
  {
   "cell_type": "code",
   "execution_count": 69,
   "metadata": {},
   "outputs": [
    {
     "data": {
      "image/png": "[encoded data removed]",
      "text/plain": [
       "<Figure size 1000x600 with 1 Axes>"
      ]
     },
     "metadata": {},
     "output_type": "display_data"
    }
   ],
   "source": [
    "coupon_counts = data['coupon'].value_counts()\n",
    "\n",
    "plt.figure(figsize=(10, 6))\n",
    "sns.barplot(x=coupon_counts.index, y=coupon_counts.values)\n",
    "plt.xlabel('Coupon Type')\n",
    "plt.ylabel('Count')\n",
    "plt.title('Coupon Type Distribution')\n",
    "plt.show()"
   ]
  },
  {
   "cell_type": "markdown",
   "metadata": {},
   "source": [
    "6. Use a histogram to visualize the temperature column."
   ]
  },
  {
   "cell_type": "code",
   "execution_count": 70,
   "metadata": {},
   "outputs": [
    {
     "data": {
      "image/png": "[encoded data removed]",
      "text/plain": [
       "<Figure size 1000x600 with 1 Axes>"
      ]
     },
     "metadata": {},
     "output_type": "display_data"
    }
   ],
   "source": [
    "plt.figure(figsize=(10, 6))\n",
    "sns.histplot(data=data, x='temperature', bins=[30, 55, 80], kde=False, discrete=True)\n",
    "plt.xlabel('Temperature')\n",
    "plt.ylabel('Count')\n",
    "plt.title('Temperature Distribution')\n",
    "plt.show()"
   ]
  },
  {
   "cell_type": "code",
   "execution_count": null,
   "metadata": {},
   "outputs": [],
   "source": []
  },
  {
   "cell_type": "markdown",
   "metadata": {},
   "source": [
    "**Investigating the Bar Coupons**\n",
    "\n",
    "Now, we will lead you through an exploration of just the bar related coupons.  \n",
    "\n",
    "1. Create a new `DataFrame` that contains just the bar coupons.\n"
   ]
  },
  {
   "cell_type": "code",
   "execution_count": 76,
   "metadata": {},
   "outputs": [
    {
     "data": {
      "text/html": [
       "<div>\n",
       "<style scoped>\n",
       "    .dataframe tbody tr th:only-of-type {\n",
       "        vertical-align: middle;\n",
       "    }\n",
       "\n",
       "    .dataframe tbody tr th {\n",
       "        vertical-align: top;\n",
       "    }\n",
       "\n",
       "    .dataframe thead th {\n",
       "        text-align: right;\n",
       "    }\n",
       "</style>\n",
       "<table border=\"1\" class=\"dataframe\">\n",
       "  <thead>\n",
       "    <tr style=\"text-align: right;\">\n",
       "      <th></th>\n",
       "      <th>destination</th>\n",
       "      <th>passanger</th>\n",
       "      <th>weather</th>\n",
       "      <th>temperature</th>\n",
       "      <th>time</th>\n",
       "      <th>coupon</th>\n",
       "      <th>expiration</th>\n",
       "      <th>gender</th>\n",
       "      <th>age</th>\n",
       "      <th>maritalStatus</th>\n",
       "      <th>...</th>\n",
       "      <th>CoffeeHouse</th>\n",
       "      <th>CarryAway</th>\n",
       "      <th>RestaurantLessThan20</th>\n",
       "      <th>Restaurant20To50</th>\n",
       "      <th>toCoupon_GEQ5min</th>\n",
       "      <th>toCoupon_GEQ15min</th>\n",
       "      <th>toCoupon_GEQ25min</th>\n",
       "      <th>direction_same</th>\n",
       "      <th>direction_opp</th>\n",
       "      <th>Y</th>\n",
       "    </tr>\n",
       "  </thead>\n",
       "  <tbody>\n",
       "    <tr>\n",
       "      <th>24</th>\n",
       "      <td>No Urgent Place</td>\n",
       "      <td>Friend(s)</td>\n",
       "      <td>Sunny</td>\n",
       "      <td>80</td>\n",
       "      <td>10AM</td>\n",
       "      <td>Bar</td>\n",
       "      <td>24</td>\n",
       "      <td>Male</td>\n",
       "      <td>21</td>\n",
       "      <td>Single</td>\n",
       "      <td>...</td>\n",
       "      <td>1</td>\n",
       "      <td>6.0</td>\n",
       "      <td>6.0</td>\n",
       "      <td>1.0</td>\n",
       "      <td>1</td>\n",
       "      <td>0</td>\n",
       "      <td>0</td>\n",
       "      <td>0</td>\n",
       "      <td>1</td>\n",
       "      <td>1</td>\n",
       "    </tr>\n",
       "    <tr>\n",
       "      <th>35</th>\n",
       "      <td>Home</td>\n",
       "      <td>Alone</td>\n",
       "      <td>Sunny</td>\n",
       "      <td>55</td>\n",
       "      <td>6PM</td>\n",
       "      <td>Bar</td>\n",
       "      <td>24</td>\n",
       "      <td>Male</td>\n",
       "      <td>21</td>\n",
       "      <td>Single</td>\n",
       "      <td>...</td>\n",
       "      <td>1</td>\n",
       "      <td>6.0</td>\n",
       "      <td>6.0</td>\n",
       "      <td>1.0</td>\n",
       "      <td>1</td>\n",
       "      <td>0</td>\n",
       "      <td>0</td>\n",
       "      <td>1</td>\n",
       "      <td>0</td>\n",
       "      <td>1</td>\n",
       "    </tr>\n",
       "    <tr>\n",
       "      <th>39</th>\n",
       "      <td>Work</td>\n",
       "      <td>Alone</td>\n",
       "      <td>Sunny</td>\n",
       "      <td>55</td>\n",
       "      <td>7AM</td>\n",
       "      <td>Bar</td>\n",
       "      <td>24</td>\n",
       "      <td>Male</td>\n",
       "      <td>21</td>\n",
       "      <td>Single</td>\n",
       "      <td>...</td>\n",
       "      <td>1</td>\n",
       "      <td>6.0</td>\n",
       "      <td>6.0</td>\n",
       "      <td>1.0</td>\n",
       "      <td>1</td>\n",
       "      <td>1</td>\n",
       "      <td>1</td>\n",
       "      <td>0</td>\n",
       "      <td>1</td>\n",
       "      <td>1</td>\n",
       "    </tr>\n",
       "    <tr>\n",
       "      <th>46</th>\n",
       "      <td>No Urgent Place</td>\n",
       "      <td>Friend(s)</td>\n",
       "      <td>Sunny</td>\n",
       "      <td>80</td>\n",
       "      <td>10AM</td>\n",
       "      <td>Bar</td>\n",
       "      <td>24</td>\n",
       "      <td>Male</td>\n",
       "      <td>46</td>\n",
       "      <td>Single</td>\n",
       "      <td>...</td>\n",
       "      <td>6</td>\n",
       "      <td>2.0</td>\n",
       "      <td>2.0</td>\n",
       "      <td>0.0</td>\n",
       "      <td>1</td>\n",
       "      <td>0</td>\n",
       "      <td>0</td>\n",
       "      <td>0</td>\n",
       "      <td>1</td>\n",
       "      <td>0</td>\n",
       "    </tr>\n",
       "    <tr>\n",
       "      <th>57</th>\n",
       "      <td>Home</td>\n",
       "      <td>Alone</td>\n",
       "      <td>Sunny</td>\n",
       "      <td>55</td>\n",
       "      <td>6PM</td>\n",
       "      <td>Bar</td>\n",
       "      <td>24</td>\n",
       "      <td>Male</td>\n",
       "      <td>46</td>\n",
       "      <td>Single</td>\n",
       "      <td>...</td>\n",
       "      <td>6</td>\n",
       "      <td>2.0</td>\n",
       "      <td>2.0</td>\n",
       "      <td>0.0</td>\n",
       "      <td>1</td>\n",
       "      <td>0</td>\n",
       "      <td>0</td>\n",
       "      <td>1</td>\n",
       "      <td>0</td>\n",
       "      <td>0</td>\n",
       "    </tr>\n",
       "  </tbody>\n",
       "</table>\n",
       "<p>5 rows × 25 columns</p>\n",
       "</div>"
      ],
      "text/plain": [
       "        destination  passanger weather  temperature  time coupon  expiration  \\\n",
       "24  No Urgent Place  Friend(s)   Sunny           80  10AM    Bar          24   \n",
       "35             Home      Alone   Sunny           55   6PM    Bar          24   \n",
       "39             Work      Alone   Sunny           55   7AM    Bar          24   \n",
       "46  No Urgent Place  Friend(s)   Sunny           80  10AM    Bar          24   \n",
       "57             Home      Alone   Sunny           55   6PM    Bar          24   \n",
       "\n",
       "   gender  age maritalStatus  ...  CoffeeHouse CarryAway RestaurantLessThan20  \\\n",
       "24   Male   21        Single  ...            1       6.0                  6.0   \n",
       "35   Male   21        Single  ...            1       6.0                  6.0   \n",
       "39   Male   21        Single  ...            1       6.0                  6.0   \n",
       "46   Male   46        Single  ...            6       2.0                  2.0   \n",
       "57   Male   46        Single  ...            6       2.0                  2.0   \n",
       "\n",
       "    Restaurant20To50  toCoupon_GEQ5min toCoupon_GEQ15min  toCoupon_GEQ25min  \\\n",
       "24               1.0                 1                 0                  0   \n",
       "35               1.0                 1                 0                  0   \n",
       "39               1.0                 1                 1                  1   \n",
       "46               0.0                 1                 0                  0   \n",
       "57               0.0                 1                 0                  0   \n",
       "\n",
       "    direction_same  direction_opp  Y  \n",
       "24               0              1  1  \n",
       "35               1              0  1  \n",
       "39               0              1  1  \n",
       "46               0              1  0  \n",
       "57               1              0  0  \n",
       "\n",
       "[5 rows x 25 columns]"
      ]
     },
     "execution_count": 76,
     "metadata": {},
     "output_type": "execute_result"
    }
   ],
   "source": [
    "bar_coupons = data[data['coupon'] == 'Bar']\n",
    "\n",
    "# Display the new DataFrame with just bar coupons\n",
    "bar_coupons.head()"
   ]
  },
  {
   "cell_type": "code",
   "execution_count": 77,
   "metadata": {},
   "outputs": [
    {
     "data": {
      "text/plain": [
       "Index(['destination', 'passanger', 'weather', 'temperature', 'time', 'coupon',\n",
       "       'expiration', 'gender', 'age', 'maritalStatus', 'has_children',\n",
       "       'education', 'occupation', 'income', 'Bar', 'CoffeeHouse', 'CarryAway',\n",
       "       'RestaurantLessThan20', 'Restaurant20To50', 'toCoupon_GEQ5min',\n",
       "       'toCoupon_GEQ15min', 'toCoupon_GEQ25min', 'direction_same',\n",
       "       'direction_opp', 'Y'],\n",
       "      dtype='object')"
      ]
     },
     "execution_count": 77,
     "metadata": {},
     "output_type": "execute_result"
    }
   ],
   "source": [
    "bar_coupons_df.columns\n"
   ]
  },
  {
   "cell_type": "markdown",
   "metadata": {},
   "source": [
    "2. What proportion of bar coupons were accepted?\n"
   ]
  },
  {
   "cell_type": "code",
   "execution_count": 78,
   "metadata": {},
   "outputs": [
    {
     "name": "stdout",
     "output_type": "stream",
     "text": [
      "Proportion of bar coupons that were accepted: 0.4119\n",
      "Percentage of bar coupons that were accepted: 41.19%\n"
     ]
    }
   ],
   "source": [
    "accepted_bar_coupons = bar_coupons['Y'].sum()\n",
    "total_bar_coupons = len(bar_coupons)\n",
    "proportion_accepted_bar_coupons = accepted_bar_coupons / total_bar_coupons\n",
    "percentage_accepted_bar_coupons = proportion_accepted_bar_coupons * 100\n",
    "\n",
    "print(f\"Proportion of bar coupons that were accepted: {proportion_accepted_bar_coupons:.4f}\")\n",
    "print(f\"Percentage of bar coupons that were accepted: {percentage_accepted_bar_coupons:.2f}%\")\n",
    "\n"
   ]
  },
  {
   "cell_type": "code",
   "execution_count": 79,
   "metadata": {},
   "outputs": [
    {
     "data": {
      "text/plain": [
       "785"
      ]
     },
     "execution_count": 79,
     "metadata": {},
     "output_type": "execute_result"
    }
   ],
   "source": [
    "#how many bar coupons were accepted\n",
    "accepted_bar_coupons = bar_coupons[bar_coupons['Y'] == 1].shape[0]\n",
    "accepted_bar_coupons"
   ]
  },
  {
   "cell_type": "code",
   "execution_count": 81,
   "metadata": {},
   "outputs": [
    {
     "data": {
      "text/plain": [
       "1121"
      ]
     },
     "execution_count": 81,
     "metadata": {},
     "output_type": "execute_result"
    }
   ],
   "source": [
    "#how many bar coupons were not accepted\n",
    "naccepted_bar_coupons = bar_coupons[bar_coupons['Y'] == 0].shape[0]\n",
    "naccepted_bar_coupons"
   ]
  },
  {
   "cell_type": "code",
   "execution_count": null,
   "metadata": {},
   "outputs": [],
   "source": []
  },
  {
   "cell_type": "markdown",
   "metadata": {},
   "source": [
    "3. Compare the acceptance rate between those who went to a bar 3 or fewer times a month to those who went more.\n"
   ]
  },
  {
   "cell_type": "markdown",
   "metadata": {},
   "source": [
    "- To compare the acceptance rate between those who went to a bar 3 or fewer times a month and those who went more, you can create two separate DataFrames and calculate the acceptance rate for each group. Here's how to do that:"
   ]
  },
  {
   "cell_type": "code",
   "execution_count": 82,
   "metadata": {},
   "outputs": [
    {
     "name": "stdout",
     "output_type": "stream",
     "text": [
      "Acceptance rate for those who went to a bar 3 or fewer times a month: 37.24%\n",
      "Acceptance rate for those who went to a bar more than 3 times a month: 76.17%\n"
     ]
    }
   ],
   "source": [
    "# Filter bar_coupons DataFrame based on the 'Bar' column\n",
    "fewer_than_3_visits = bar_coupons[bar_coupons['Bar'] <= 2]\n",
    "more_than_3_visits = bar_coupons[bar_coupons['Bar'] > 2]\n",
    "\n",
    "# Calculate the acceptance rate for each group\n",
    "accepted_fewer_than_3_visits = fewer_than_3_visits['Y'].sum() / len(fewer_than_3_visits) * 100\n",
    "accepted_more_than_3_visits = more_than_3_visits['Y'].sum() / len(more_than_3_visits) * 100\n",
    "\n",
    "print(f\"Acceptance rate for those who went to a bar 3 or fewer times a month: {accepted_fewer_than_3_visits:.2f}%\")\n",
    "print(f\"Acceptance rate for those who went to a bar more than 3 times a month: {accepted_more_than_3_visits:.2f}%\")\n"
   ]
  },
  {
   "cell_type": "markdown",
   "metadata": {},
   "source": [
    "- Based on the results:\n",
    "\n",
    "Acceptance rate for those who went to a bar 3 or fewer times a month: 37.24%\n",
    "Acceptance rate for those who went to a bar more than 3 times a month: 76.17%\n",
    "We can conclude that individuals who go to a bar more than 3 times a month are more likely to accept bar coupons compared to those who go to a bar 3 or fewer times a month. This suggests that frequent bar-goers have a higher interest in bar promotions and are more likely to take advantage of the coupons offered."
   ]
  },
  {
   "cell_type": "code",
   "execution_count": null,
   "metadata": {},
   "outputs": [],
   "source": []
  },
  {
   "cell_type": "markdown",
   "metadata": {},
   "source": [
    "4. Compare the acceptance rate between drivers who go to a bar more than once a month and are over the age of 25 to the all others.  Is there a difference?\n"
   ]
  },
  {
   "cell_type": "code",
   "execution_count": 84,
   "metadata": {
    "scrolled": true
   },
   "outputs": [
    {
     "name": "stdout",
     "output_type": "stream",
     "text": [
      "Acceptance rate for drivers who go to a bar more than once a month and are over the age of 25: 68.98%\n",
      "Acceptance rate for all other drivers: 33.73%\n"
     ]
    }
   ],
   "source": [
    "# Filter bar_coupons DataFrame based on the 'Bar' and 'age' columns\n",
    "target_group = bar_coupons[(bar_coupons['Bar'] > 1) & (bar_coupons['age'] > 25)]\n",
    "other_group = bar_coupons[~((bar_coupons['Bar'] > 1) & (bar_coupons['age'] > 25))]\n",
    "\n",
    "# Calculate the acceptance rate for each group\n",
    "accepted_target_group = target_group['Y'].sum() / len(target_group) * 100\n",
    "accepted_other_group = other_group['Y'].sum() / len(other_group) * 100\n",
    "\n",
    "print(f\"Acceptance rate for drivers who go to a bar more than once a month and are over the age of 25: {accepted_target_group:.2f}%\")\n",
    "print(f\"Acceptance rate for all other drivers: {accepted_other_group:.2f}%\")\n",
    "\n"
   ]
  },
  {
   "cell_type": "markdown",
   "metadata": {},
   "source": [
    "- Based on the results:\n",
    "\n",
    "Acceptance rate for drivers who go to a bar more than once a month and are over the age of 25: 68.98%\n",
    "Acceptance rate for all other drivers: 33.73%\n",
    "We can conclude that drivers who go to a bar more than once a month and are over the age of 25 are more likely to accept bar coupons compared to all other drivers. This indicates that targeting bar promotions to this specific demographic group (drivers over 25 who frequent bars more than once a month) may yield higher coupon acceptance rates and possibly higher sales or customer engagement."
   ]
  },
  {
   "cell_type": "code",
   "execution_count": null,
   "metadata": {},
   "outputs": [],
   "source": []
  },
  {
   "cell_type": "code",
   "execution_count": null,
   "metadata": {},
   "outputs": [],
   "source": []
  },
  {
   "cell_type": "markdown",
   "metadata": {},
   "source": [
    "5. Use the same process to compare the acceptance rate between drivers who go to bars more than once a month and had passengers that were not a kid and had occupations other than farming, fishing, or forestry. \n"
   ]
  },
  {
   "cell_type": "code",
   "execution_count": 86,
   "metadata": {
    "scrolled": true
   },
   "outputs": [
    {
     "name": "stdout",
     "output_type": "stream",
     "text": [
      "Acceptance rate for drivers who go to a bar more than once a month, have passengers not kids, and have occupations other than farming, fishing, or forestry: 68.53%\n",
      "Acceptance rate for all other drivers: 29.46%\n"
     ]
    }
   ],
   "source": [
    "# Filter bar_coupons DataFrame based on the 'Bar', 'passanger', and 'occupation' columns\n",
    "target_group_2 = bar_coupons[(bar_coupons['Bar'] > 1) & (bar_coupons['passanger'] != 'kid(s)') & ~(bar_coupons['occupation'].isin(['farming, fishing, and forestry']))]\n",
    "other_group_2 = bar_coupons[~((bar_coupons['Bar'] > 1) & (bar_coupons['passanger'] != 'kid(s)') & ~(bar_coupons['occupation'].isin(['farming, fishing, and forestry'])))]\n",
    "\n",
    "# Calculate the acceptance rate for each group\n",
    "accepted_target_group_2 = target_group_2['Y'].sum() / len(target_group_2) * 100\n",
    "accepted_other_group_2 = other_group_2['Y'].sum() / len(other_group_2) * 100\n",
    "\n",
    "print(f\"Acceptance rate for drivers who go to a bar more than once a month, have passengers not kids, and have occupations other than farming, fishing, or forestry: {accepted_target_group_2:.2f}%\")\n",
    "print(f\"Acceptance rate for all other drivers: {accepted_other_group_2:.2f}%\")\n"
   ]
  },
  {
   "cell_type": "markdown",
   "metadata": {},
   "source": [
    "- Based on the results:\n",
    "\n",
    "Acceptance rate for drivers who go to a bar more than once a month, have passengers not kids, and have occupations other than farming, fishing, or forestry: 68.53%\n",
    "Acceptance rate for all other drivers: 29.46%\n",
    "We can conclude that drivers who go to a bar more than once a month, have passengers that are not kids, and have occupations other than farming, fishing, or forestry are more likely to accept bar coupons compared to all other drivers. This indicates that targeting bar promotions to this specific demographic group may yield higher coupon acceptance rates and potentially higher sales or customer engagement. By focusing on these drivers, businesses can optimize their marketing strategies to cater to the preferences and behaviors of this group, resulting in better returns on their promotional efforts."
   ]
  },
  {
   "cell_type": "code",
   "execution_count": null,
   "metadata": {},
   "outputs": [],
   "source": []
  },
  {
   "cell_type": "markdown",
   "metadata": {},
   "source": [
    "6. Compare the acceptance rates between those drivers who:\n",
    "\n",
    "- go to bars more than once a month, had passengers that were not a kid, and were not widowed *OR*\n",
    "- go to bars more than once a month and are under the age of 30 *OR*\n",
    "- go to cheap restaurants more than 4 times a month and income is less than 50K. \n",
    "\n"
   ]
  },
  {
   "cell_type": "code",
   "execution_count": 87,
   "metadata": {},
   "outputs": [
    {
     "data": {
      "text/plain": [
       "(62.272727272727266, 62.858464384828864, 60.208711433756804)"
      ]
     },
     "execution_count": 87,
     "metadata": {},
     "output_type": "execute_result"
    }
   ],
   "source": [
    "\n",
    "\n",
    "\n",
    "# Group 1: go to bars more than once a month, had passengers that were not a kid, and were not widowed\n",
    "group1 = data[(data['Bar'] > 1) & (data['passanger'] != 'kid(s)') & (data['maritalStatus'] != 'widowed')]\n",
    "\n",
    "# Group 2: go to bars more than once a month and are under the age of 30\n",
    "group2 = data[(data['Bar'] > 1) & (data['age'] < 30)]\n",
    "\n",
    "# Group 3: go to cheap restaurants more than 4 times a month and income is less than 50K\n",
    "group3 = data[(data['RestaurantLessThan20'] > 4) & (data['income'] < 50000)]\n",
    "\n",
    "# Calculate acceptance rates for each group\n",
    "acceptance_rate_group1 = group1['Y'].mean() * 100\n",
    "acceptance_rate_group2 = group2['Y'].mean() * 100\n",
    "acceptance_rate_group3 = group3['Y'].mean() * 100\n",
    "\n",
    "acceptance_rate_group1, acceptance_rate_group2, acceptance_rate_group3\n",
    "\n"
   ]
  },
  {
   "cell_type": "markdown",
   "metadata": {},
   "source": [
    "- The acceptance rates for the three groups are as follows:\n",
    "\n",
    "Drivers who go to bars more than once a month, had passengers that were not a kid, and were not widowed have an acceptance rate of 62.27%.\n",
    "Drivers who go to bars more than once a month and are under the age of 30 have an acceptance rate of 62.86%.\n",
    "Drivers who go to cheap restaurants more than 4 times a month and have an income less than 50K have an acceptance rate of 60.21%.\n",
    "The conclusion is that the acceptance rates for the three groups are relatively close, all being around 60%. This suggests that there is not a significant difference in coupon acceptance rates among these groups."
   ]
  },
  {
   "cell_type": "code",
   "execution_count": null,
   "metadata": {},
   "outputs": [],
   "source": []
  },
  {
   "cell_type": "markdown",
   "metadata": {},
   "source": [
    "7.  Based on these observations, what do you hypothesize about drivers who accepted the bar coupons?"
   ]
  },
  {
   "cell_type": "markdown",
   "metadata": {},
   "source": [
    "Based on the observations, we can hypothesize that drivers who accepted the bar coupons are more likely to have certain characteristics. These drivers tend to:\n",
    "\n",
    "- Visit bars more frequently (more than once a month).\n",
    "- Be over the age of 25, especially when compared to all other drivers.\n",
    "- Have passengers that are not kids.\n",
    "- Work in occupations other than farming, fishing, or forestry.\n",
    "- Not be widowed.\n",
    "- Additionally, factors such as going to cheap restaurants more than 4 times a month and having an income less than 50K may also influence the acceptance rate of bar coupons, but the effect is less pronounced compared to the factors listed above.\n",
    "\n"
   ]
  },
  {
   "cell_type": "markdown",
   "metadata": {},
   "source": [
    "### Independent Investigation\n",
    "\n",
    "Using the bar coupon example as motivation, you are to explore one of the other coupon groups and try to determine the characteristics of passengers who accept the coupons.  "
   ]
  },
  {
   "cell_type": "markdown",
   "metadata": {},
   "source": [
    "- Let's explore the coffee house coupon group and determine the characteristics of passengers who accept these coupons.\n",
    "\n",
    "First, we'll create a new DataFrame that contains just the coffee house coupons:"
   ]
  },
  {
   "cell_type": "code",
   "execution_count": 98,
   "metadata": {},
   "outputs": [],
   "source": [
    "coffee_house_df = data[data['coupon'] == 'Coffee House']"
   ]
  },
  {
   "cell_type": "markdown",
   "metadata": {},
   "source": [
    "- Next, filter the DataFrame to get drivers who go to a coffee house more than once a month and are over the age of 25:"
   ]
  },
  {
   "cell_type": "code",
   "execution_count": 99,
   "metadata": {},
   "outputs": [
    {
     "name": "stdout",
     "output_type": "stream",
     "text": [
      "Acceptance rate for drivers who go to a coffee house more than once a month and are over the age of 25: 63.92%\n",
      "Acceptance rate for all other drivers: 41.81%\n"
     ]
    }
   ],
   "source": [
    "coffee_house_df = data[data['coupon'] == 'Coffee House']\n",
    "\n",
    "coffee_over_25_more_than_once = coffee_house_df[(coffee_house_df['CoffeeHouse'] >= 2) & (coffee_house_df['age'] > 25)]\n",
    "\n",
    "other_drivers = coffee_house_df[~((coffee_house_df['CoffeeHouse'] >= 2) & (coffee_house_df['age'] > 25))]\n",
    "\n",
    "acceptance_rate_coffee_over_25_more_than_once = coffee_over_25_more_than_once['Y'].mean() * 100\n",
    "acceptance_rate_other_drivers = other_drivers['Y'].mean() * 100\n",
    "\n",
    "print(f\"Acceptance rate for drivers who go to a coffee house more than once a month and are over the age of 25: {acceptance_rate_coffee_over_25_more_than_once:.2f}%\")\n",
    "print(f\"Acceptance rate for all other drivers: {acceptance_rate_other_drivers:.2f}%\")\n"
   ]
  },
  {
   "cell_type": "markdown",
   "metadata": {},
   "source": [
    "- The results show that there is a significant difference in the acceptance rates between the two groups of drivers. Drivers who go to a coffee house more than once a month and are over the age of 25 have a higher acceptance rate (63.92%) compared to all other drivers (41.81%).\n",
    "\n",
    "This indicates that drivers who visit coffee houses more frequently and are older are more likely to accept coffee house coupons. It could be that these drivers have a stronger preference for coffee or have more established coffee drinking habits, making them more receptive to coffee house promotions."
   ]
  },
  {
   "cell_type": "code",
   "execution_count": null,
   "metadata": {},
   "outputs": [],
   "source": []
  },
  {
   "cell_type": "markdown",
   "metadata": {},
   "source": [
    "- To analyze the acceptance rate based on the frequency of going to a coffee house, we'll calculate the acceptance rate for each frequency category.\n",
    "\n",
    "Never (0)\n",
    "Less than once a month (1)\n",
    "1-3 times a month (2)\n",
    "4-8 times a month (6)\n",
    "More than 8 times a month (9)"
   ]
  },
  {
   "cell_type": "code",
   "execution_count": null,
   "metadata": {},
   "outputs": [],
   "source": [
    "\n",
    "coffee_house_categories = [0, 1, 2, 6, 9]\n",
    "acceptance_rates = []\n",
    "\n",
    "for category in coffee_house_categories:\n",
    "    coffee_house_group = data[data['CoffeeHouse'] == category]\n",
    "    total_coupons = len(coffee_house_group)\n",
    "    accepted_coupons = len(coffee_house_group[coffee_house_group['Y'] == 1])\n",
    "    acceptance_rate = (accepted_coupons / total_coupons) * 100\n",
    "    acceptance_rates.append(acceptance_rate)\n",
    "\n",
    "acceptance_rates\n"
   ]
  },
  {
   "cell_type": "code",
   "execution_count": null,
   "metadata": {},
   "outputs": [],
   "source": []
  },
  {
   "cell_type": "code",
   "execution_count": null,
   "metadata": {},
   "outputs": [],
   "source": []
  },
  {
   "cell_type": "code",
   "execution_count": null,
   "metadata": {},
   "outputs": [],
   "source": []
  },
  {
   "cell_type": "code",
   "execution_count": null,
   "metadata": {},
   "outputs": [],
   "source": []
  },
  {
   "cell_type": "code",
   "execution_count": null,
   "metadata": {},
   "outputs": [],
   "source": []
  },
  {
   "cell_type": "code",
   "execution_count": null,
   "metadata": {},
   "outputs": [],
   "source": []
  },
  {
   "cell_type": "code",
   "execution_count": null,
   "metadata": {},
   "outputs": [],
   "source": []
  },
  {
   "cell_type": "code",
   "execution_count": null,
   "metadata": {},
   "outputs": [],
   "source": []
  },
  {
   "cell_type": "code",
   "execution_count": null,
   "metadata": {},
   "outputs": [],
   "source": []
  },
  {
   "cell_type": "code",
   "execution_count": null,
   "metadata": {},
   "outputs": [],
   "source": []
  },
  {
   "cell_type": "code",
   "execution_count": 29,
   "metadata": {},
   "outputs": [
    {
     "name": "stdout",
     "output_type": "stream",
     "text": [
      "Overall acceptance rate for coffee house coupons: 0.50\n",
      "             sum  count  acceptance_rate\n",
      "CoffeeHouse                             \n",
      "1~3          672   1038         0.647399\n",
      "4~8          369    538         0.685874\n",
      "gt8          225    342         0.657895\n",
      "less1        515   1072         0.480410\n",
      "never        175    927         0.188781\n",
      "           sum  count  acceptance_rate\n",
      "passanger                             \n",
      "Alone      986   2253         0.437639\n",
      "Friend(s)  731   1226         0.596248\n",
      "Kid(s)      99    206         0.480583\n",
      "Partner    173    304         0.569079\n"
     ]
    },
    {
     "data": {
      "text/html": [
       "<div>\n",
       "<style scoped>\n",
       "    .dataframe tbody tr th:only-of-type {\n",
       "        vertical-align: middle;\n",
       "    }\n",
       "\n",
       "    .dataframe tbody tr th {\n",
       "        vertical-align: top;\n",
       "    }\n",
       "\n",
       "    .dataframe thead th {\n",
       "        text-align: right;\n",
       "    }\n",
       "</style>\n",
       "<table border=\"1\" class=\"dataframe\">\n",
       "  <thead>\n",
       "    <tr style=\"text-align: right;\">\n",
       "      <th></th>\n",
       "      <th>sum</th>\n",
       "      <th>count</th>\n",
       "      <th>acceptance_rate</th>\n",
       "    </tr>\n",
       "    <tr>\n",
       "      <th>time</th>\n",
       "      <th></th>\n",
       "      <th></th>\n",
       "      <th></th>\n",
       "    </tr>\n",
       "  </thead>\n",
       "  <tbody>\n",
       "    <tr>\n",
       "      <th>10AM</th>\n",
       "      <td>575</td>\n",
       "      <td>898</td>\n",
       "      <td>0.640312</td>\n",
       "    </tr>\n",
       "    <tr>\n",
       "      <th>10PM</th>\n",
       "      <td>126</td>\n",
       "      <td>297</td>\n",
       "      <td>0.424242</td>\n",
       "    </tr>\n",
       "    <tr>\n",
       "      <th>2PM</th>\n",
       "      <td>434</td>\n",
       "      <td>793</td>\n",
       "      <td>0.547289</td>\n",
       "    </tr>\n",
       "    <tr>\n",
       "      <th>6PM</th>\n",
       "      <td>447</td>\n",
       "      <td>1088</td>\n",
       "      <td>0.410846</td>\n",
       "    </tr>\n",
       "    <tr>\n",
       "      <th>7AM</th>\n",
       "      <td>407</td>\n",
       "      <td>913</td>\n",
       "      <td>0.445783</td>\n",
       "    </tr>\n",
       "  </tbody>\n",
       "</table>\n",
       "</div>"
      ],
      "text/plain": [
       "      sum  count  acceptance_rate\n",
       "time                             \n",
       "10AM  575    898         0.640312\n",
       "10PM  126    297         0.424242\n",
       "2PM   434    793         0.547289\n",
       "6PM   447   1088         0.410846\n",
       "7AM   407    913         0.445783"
      ]
     },
     "execution_count": 29,
     "metadata": {},
     "output_type": "execute_result"
    }
   ],
   "source": [
    "coffee_coupons_df = data[data['coupon'] == 'Coffee House']\n",
    "\n",
    "coffee_acceptance_rate = coffee_coupons_df[coffee_coupons_df['Y'] == 1].shape[0] / coffee_coupons_df.shape[0]\n",
    "print(f\"Overall acceptance rate for coffee house coupons: {coffee_acceptance_rate:.2f}\")\n",
    "\n",
    "\n",
    "# Analyze the acceptance rate based on the frequency of going to a coffee house\n",
    "coffee_freq_grouped = coffee_coupons_df.groupby('CoffeeHouse')['Y'].agg(['sum', 'count'])\n",
    "coffee_freq_grouped['acceptance_rate'] = coffee_freq_grouped['sum'] / coffee_freq_grouped['count']\n",
    "print(coffee_freq_grouped)\n",
    "\n",
    "# Analyze the acceptance rate based on the presence of passengers\n",
    "passenger_grouped = coffee_coupons_df.groupby('passanger')['Y'].agg(['sum', 'count'])\n",
    "passenger_grouped['acceptance_rate'] = passenger_grouped['sum'] / passenger_grouped['count']\n",
    "print(passenger_grouped)\n",
    "\n",
    "# Analyze the acceptance rate based on the time of day\n",
    "time_grouped = coffee_coupons_df.groupby('time')['Y'].agg(['sum', 'count'])\n",
    "time_grouped['acceptance_rate'] = time_grouped['sum'] / time_grouped['count']\n",
    "time_grouped\n"
   ]
  },
  {
   "cell_type": "code",
   "execution_count": 30,
   "metadata": {},
   "outputs": [
    {
     "data": {
      "image/png": "[encoded data removed]",
      "text/plain": [
       "<Figure size 640x480 with 1 Axes>"
      ]
     },
     "metadata": {},
     "output_type": "display_data"
    }
   ],
   "source": [
    "\n",
    "time_data = {\n",
    "    '10AM': 0.634346,\n",
    "    '10PM': 0.429078,\n",
    "    '2PM': 0.544855,\n",
    "    '6PM': 0.410405,\n",
    "    '7AM': 0.440000,\n",
    "}\n",
    "\n",
    "plt.pie(time_data.values(), labels=time_data.keys(), autopct='%1.1f%%')\n",
    "plt.title('Acceptance Rate by Time of Day')\n",
    "plt.show()"
   ]
  },
  {
   "cell_type": "code",
   "execution_count": 31,
   "metadata": {},
   "outputs": [
    {
     "data": {
      "image/png": "[encoded data removed]",
      "text/plain": [
       "<Figure size 640x480 with 1 Axes>"
      ]
     },
     "metadata": {},
     "output_type": "display_data"
    }
   ],
   "source": [
    "coffeehouse_data = {\n",
    "    '1~3': 0.647291,\n",
    "    '4~8': 0.682446,\n",
    "    'gt8': 0.657895,\n",
    "    'less1': 0.479504,\n",
    "    'never': 0.175223,\n",
    "}\n",
    "\n",
    "plt.pie(coffeehouse_data.values(), labels=coffeehouse_data.keys(), autopct='%1.1f%%')\n",
    "plt.title('Acceptance Rate by Coffee House Visit Frequency')\n",
    "plt.show()"
   ]
  },
  {
   "cell_type": "code",
   "execution_count": 32,
   "metadata": {},
   "outputs": [
    {
     "data": {
      "image/png": "[encoded data removed]",
      "text/plain": [
       "<Figure size 640x480 with 1 Axes>"
      ]
     },
     "metadata": {},
     "output_type": "display_data"
    }
   ],
   "source": [
    "passenger_data = {\n",
    "    'Alone': 0.433612,\n",
    "    'Friend(s)': 0.596760,\n",
    "    'Kid(s)': 0.468750,\n",
    "    'Partner': 0.565517,\n",
    "}\n",
    "\n",
    "plt.pie(passenger_data.values(), labels=passenger_data.keys(), autopct='%1.1f%%')\n",
    "plt.title('Acceptance Rate by Passenger Presence')\n",
    "plt.show()"
   ]
  },
  {
   "cell_type": "code",
   "execution_count": 33,
   "metadata": {},
   "outputs": [
    {
     "data": {
      "text/html": [
       "<div>\n",
       "<style scoped>\n",
       "    .dataframe tbody tr th:only-of-type {\n",
       "        vertical-align: middle;\n",
       "    }\n",
       "\n",
       "    .dataframe tbody tr th {\n",
       "        vertical-align: top;\n",
       "    }\n",
       "\n",
       "    .dataframe thead th {\n",
       "        text-align: right;\n",
       "    }\n",
       "</style>\n",
       "<table border=\"1\" class=\"dataframe\">\n",
       "  <thead>\n",
       "    <tr style=\"text-align: right;\">\n",
       "      <th></th>\n",
       "      <th>gender</th>\n",
       "      <th>Y</th>\n",
       "      <th>count</th>\n",
       "    </tr>\n",
       "  </thead>\n",
       "  <tbody>\n",
       "    <tr>\n",
       "      <th>0</th>\n",
       "      <td>Female</td>\n",
       "      <td>0</td>\n",
       "      <td>2934</td>\n",
       "    </tr>\n",
       "    <tr>\n",
       "      <th>1</th>\n",
       "      <td>Female</td>\n",
       "      <td>1</td>\n",
       "      <td>3535</td>\n",
       "    </tr>\n",
       "    <tr>\n",
       "      <th>2</th>\n",
       "      <td>Male</td>\n",
       "      <td>0</td>\n",
       "      <td>2519</td>\n",
       "    </tr>\n",
       "    <tr>\n",
       "      <th>3</th>\n",
       "      <td>Male</td>\n",
       "      <td>1</td>\n",
       "      <td>3622</td>\n",
       "    </tr>\n",
       "  </tbody>\n",
       "</table>\n",
       "</div>"
      ],
      "text/plain": [
       "   gender  Y  count\n",
       "0  Female  0   2934\n",
       "1  Female  1   3535\n",
       "2    Male  0   2519\n",
       "3    Male  1   3622"
      ]
     },
     "execution_count": 33,
     "metadata": {},
     "output_type": "execute_result"
    }
   ],
   "source": [
    "gender_acceptance = data.groupby(['gender', 'Y']).size().reset_index(name='count')\n",
    "gender_acceptance"
   ]
  },
  {
   "cell_type": "code",
   "execution_count": 34,
   "metadata": {},
   "outputs": [
    {
     "data": {
      "image/png": "[encoded data removed]",
      "text/plain": [
       "<Figure size 640x480 with 1 Axes>"
      ]
     },
     "metadata": {},
     "output_type": "display_data"
    },
    {
     "data": {
      "image/png": "[encoded data removed]",
      "text/plain": [
       "<Figure size 640x480 with 1 Axes>"
      ]
     },
     "metadata": {},
     "output_type": "display_data"
    }
   ],
   "source": [
    "\n",
    "female_data = gender_acceptance[gender_acceptance['gender'] == 'Female']\n",
    "male_data = gender_acceptance[gender_acceptance['gender'] == 'Male']\n",
    "\n",
    "# Pie plot for female customers\n",
    "plt.pie(female_data['count'], labels=['Not Accepted', 'Accepted'], autopct='%1.1f%%')\n",
    "plt.title('Female Coupon Acceptance Rate')\n",
    "plt.show()\n",
    "\n",
    "# Pie plot for male customers\n",
    "plt.pie(male_data['count'], labels=['Not Accepted', 'Accepted'], autopct='%1.1f%%')\n",
    "plt.title('Male Coupon Acceptance Rate')\n",
    "plt.show()"
   ]
  },
  {
   "cell_type": "code",
   "execution_count": 35,
   "metadata": {},
   "outputs": [
    {
     "data": {
      "image/png": "[encoded data removed]",
      "text/plain": [
       "<Figure size 1000x700 with 1 Axes>"
      ]
     },
     "metadata": {},
     "output_type": "display_data"
    }
   ],
   "source": [
    "gender_acceptance_pivot = gender_acceptance.pivot(index='gender', columns='Y', values='count')\n",
    "\n",
    "# Normalize the values to get proportions\n",
    "gender_acceptance_pivot = gender_acceptance_pivot.div(gender_acceptance_pivot.sum(axis=1), axis=0)\n",
    "\n",
    "# Plot the stacked bar chart using seaborn\n",
    "sns.set(style=\"whitegrid\")\n",
    "ax = gender_acceptance_pivot.plot(kind='bar', stacked=True, figsize=(10, 7))\n",
    "plt.title('Coupon Acceptance Rates by Gender')\n",
    "plt.xlabel('Gender')\n",
    "plt.ylabel('Proportion')\n",
    "plt.xticks(rotation=0)\n",
    "\n",
    "# Customize the legend\n",
    "plt.legend(title='Coupon Acceptance', labels=['Not Accepted', 'Accepted'])\n",
    "\n",
    "plt.show()"
   ]
  },
  {
   "cell_type": "markdown",
   "metadata": {},
   "source": [
    "## Weather impact \n"
   ]
  },
  {
   "cell_type": "code",
   "execution_count": 36,
   "metadata": {},
   "outputs": [
    {
     "name": "stdout",
     "output_type": "stream",
     "text": [
      "Y           0     1  acceptance_rate\n",
      "weather                             \n",
      "Rainy     645   557         0.463394\n",
      "Snowy     738   659         0.471725\n",
      "Sunny    4070  5941         0.593447\n"
     ]
    }
   ],
   "source": [
    "\n",
    "weather_acceptance = data.groupby(['weather', 'Y']).size().reset_index(name='count')\n",
    "weather_acceptance_pivot = weather_acceptance.pivot(index='weather', columns='Y', values='count')\n",
    "weather_acceptance_pivot['acceptance_rate'] = weather_acceptance_pivot[1] / (weather_acceptance_pivot[0] + weather_acceptance_pivot[1])\n",
    "\n",
    "print(weather_acceptance_pivot)"
   ]
  },
  {
   "cell_type": "code",
   "execution_count": 37,
   "metadata": {},
   "outputs": [
    {
     "data": {
      "image/png": "[encoded data removed]",
      "text/plain": [
       "<Figure size 640x480 with 1 Axes>"
      ]
     },
     "metadata": {},
     "output_type": "display_data"
    }
   ],
   "source": [
    "sns.set(style=\"whitegrid\")\n",
    "ax = sns.barplot(x=weather_acceptance_pivot.index, y=weather_acceptance_pivot['acceptance_rate'])\n",
    "plt.title('Coupon Acceptance Rates by Weather')\n",
    "plt.xlabel('Weather')\n",
    "plt.ylabel('Acceptance Rate')\n",
    "\n",
    "plt.show()"
   ]
  },
  {
   "cell_type": "code",
   "execution_count": 38,
   "metadata": {},
   "outputs": [
    {
     "data": {
      "image/png": "[encoded data removed]",
      "text/plain": [
       "<Figure size 640x480 with 1 Axes>"
      ]
     },
     "metadata": {},
     "output_type": "display_data"
    }
   ],
   "source": [
    "#Weather plays a significant role in coupon acceptance rates. People are more likely to accept coupons on sunny days, with an acceptance rate of 59.36%. In contrast, rainy and snowy days have lower acceptance rates at 46.27% and 47.77%, respectively. Businesses can use this information to tailor their marketing strategies according to local weather conditions to enhance the success of their promotions.\n",
    "\n",
    "\n",
    "\n",
    "gender_acceptance = data.groupby(['gender', 'Y']).size().reset_index(name='count')\n",
    "gender_acceptance_pivot = gender_acceptance.pivot(index='gender', columns='Y', values='count')\n",
    "gender_acceptance_pivot['acceptance_rate'] = gender_acceptance_pivot[1] / (gender_acceptance_pivot[0] + gender_acceptance_pivot[1])\n",
    "\n",
    "labels = ['Female', 'Male']\n",
    "sizes = [gender_acceptance_pivot.loc['Female', 'acceptance_rate'], gender_acceptance_pivot.loc['Male', 'acceptance_rate']]\n",
    "colors = ['#ff9999','#66b3ff']\n",
    "\n",
    "fig1, ax1 = plt.subplots()\n",
    "ax1.pie(sizes, colors=colors, labels=labels, autopct='%1.1f%%', startangle=90)\n",
    "\n",
    "plt.title('Coupon Acceptance Rates by Gender')\n",
    "plt.axis('equal')\n",
    "plt.show()\n"
   ]
  },
  {
   "cell_type": "markdown",
   "metadata": {},
   "source": [
    "## total acceptance \n"
   ]
  },
  {
   "cell_type": "code",
   "execution_count": 39,
   "metadata": {},
   "outputs": [
    {
     "name": "stdout",
     "output_type": "stream",
     "text": [
      "Total count: 12610\n",
      "Acceptance count: 7157\n",
      "Acceptance rate: 56.76%\n",
      "Non-acceptance rate: -5575.65%\n"
     ]
    }
   ],
   "source": [
    "total_count = len(data)\n",
    "acceptance_count = len(data[data['Y'] == 1])\n",
    "acceptance_rate = acceptance_count / total_count * 100\n",
    "non_acceptance_rate = (1 - acceptance_rate) * 100\n",
    "\n",
    "print(f'Total count: {total_count}')\n",
    "print(f'Acceptance count: {acceptance_count}')\n",
    "print(f'Acceptance rate: {acceptance_rate:.2f}%')\n",
    "print(f'Non-acceptance rate: {non_acceptance_rate:.2f}%')"
   ]
  },
  {
   "cell_type": "code",
   "execution_count": 40,
   "metadata": {},
   "outputs": [
    {
     "data": {
      "image/png": "[encoded data removed]",
      "text/plain": [
       "<Figure size 640x480 with 1 Axes>"
      ]
     },
     "metadata": {},
     "output_type": "display_data"
    }
   ],
   "source": [
    "labels = ['Accepted', 'Not accepted']\n",
    "sizes = [acceptance_rate, 100 - acceptance_rate]\n",
    "colors = ['#66b3ff', '#ff9999']\n",
    "\n",
    "fig1, ax1 = plt.subplots()\n",
    "ax1.pie(sizes, colors=colors, labels=labels, autopct='%1.1f%%', startangle=90)\n",
    "\n",
    "plt.title('Coupon Acceptance Rates')\n",
    "plt.axis('equal')\n",
    "plt.show()"
   ]
  },
  {
   "cell_type": "code",
   "execution_count": 41,
   "metadata": {},
   "outputs": [],
   "source": [
    "#The analysis showed that the overall coupon acceptance rate across all categories was 56.84%, with a non-acceptance rate of 43.16%. This indicates that the coupon promotion campaign was effective in attracting customers to the businesses. However, weather conditions played a significant role in coupon acceptance rates, with customers being more likely to accept coupons on sunny days. Additionally, the acceptance rates of different coupon types varied based on passenger characteristics such as occupation and number of kids, as well as the time of day. Businesses can use these findings to tailor their marketing strategies and promotions to different customer segments to enhance the success of their campaigns."
   ]
  },
  {
   "cell_type": "code",
   "execution_count": null,
   "metadata": {},
   "outputs": [],
   "source": []
  },
  {
   "cell_type": "code",
   "execution_count": null,
   "metadata": {},
   "outputs": [],
   "source": []
  },
  {
   "cell_type": "code",
   "execution_count": null,
   "metadata": {},
   "outputs": [],
   "source": []
  }
 ],
 "metadata": {
  "kernelspec": {
   "display_name": "Python 3 (ipykernel)",
   "language": "python",
   "name": "python3"
  },
  "language_info": {
   "codemirror_mode": {
    "name": "ipython",
    "version": 3
   },
   "file_extension": ".py",
   "mimetype": "text/x-python",
   "name": "python",
   "nbconvert_exporter": "python",
   "pygments_lexer": "ipython3",
   "version": "3.9.13"
  },
  "widgets": {
   "application/vnd.jupyter.widget-state+json": {
    "state": {},
    "version_major": 2,
    "version_minor": 0
   }
  }
 },
 "nbformat": 4,
 "nbformat_minor": 4
}
